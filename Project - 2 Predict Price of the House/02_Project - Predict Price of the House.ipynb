{
 "cells": [
  {
   "cell_type": "markdown",
   "id": "5dd58422",
   "metadata": {},
   "source": [
    "## Project - Predict Price of the House "
   ]
  },
  {
   "cell_type": "markdown",
   "id": "f58f4ac3",
   "metadata": {},
   "source": [
    "Objective :-\n",
    "We have developed an understanding of feature columns and data pipelines.\n",
    "\n",
    "Now let’s focus on building a regression model using a real dataset, the Boston Housing Price data set.\n",
    "We will use a Tensor Flow estimator to build a linear regression model"
   ]
  },
  {
   "cell_type": "markdown",
   "id": "6eb57af8",
   "metadata": {},
   "source": [
    "## Load Data and Preprocessing"
   ]
  },
  {
   "cell_type": "markdown",
   "id": "7f9d93f4",
   "metadata": {},
   "source": [
    "#### Import Module and Download Dataset"
   ]
  },
  {
   "cell_type": "code",
   "execution_count": 1,
   "id": "183f39c3",
   "metadata": {},
   "outputs": [],
   "source": [
    "import tensorflow as tf"
   ]
  },
  {
   "cell_type": "code",
   "execution_count": 2,
   "id": "ac80f494",
   "metadata": {},
   "outputs": [],
   "source": [
    "import pandas as pd"
   ]
  },
  {
   "cell_type": "code",
   "execution_count": 7,
   "id": "218f32ef",
   "metadata": {},
   "outputs": [],
   "source": [
    "from tensorflow.keras.datasets import boston_housing"
   ]
  },
  {
   "cell_type": "code",
   "execution_count": 9,
   "id": "2b887bcc",
   "metadata": {},
   "outputs": [
    {
     "name": "stdout",
     "output_type": "stream",
     "text": [
      "Downloading data from https://storage.googleapis.com/tensorflow/tf-keras-datasets/boston_housing.npz\n",
      "57026/57026 [==============================] - 0s 2us/step\n"
     ]
    }
   ],
   "source": [
    "(train_x, train_y), (test_x, test_y) = boston_housing.load_data()"
   ]
  },
  {
   "cell_type": "code",
   "execution_count": 10,
   "id": "f654bf89",
   "metadata": {},
   "outputs": [],
   "source": [
    "features = ['CRIM','ZN','INDUS','CHAS','NOX','RM','AGE',\n",
    "           'DIS','RAD','TAX','PTRATIO','B','LASTAT']"
   ]
  },
  {
   "cell_type": "markdown",
   "id": "d6abb254",
   "metadata": {},
   "source": [
    "### Convert to pandas dataset"
   ]
  },
  {
   "cell_type": "code",
   "execution_count": 11,
   "id": "7904a53f",
   "metadata": {},
   "outputs": [],
   "source": [
    "df_train_x = pd.DataFrame(train_x, columns=features)"
   ]
  },
  {
   "cell_type": "code",
   "execution_count": 12,
   "id": "a91ba8a5",
   "metadata": {},
   "outputs": [],
   "source": [
    "df_test_x = pd.DataFrame(test_x, columns=features)"
   ]
  },
  {
   "cell_type": "code",
   "execution_count": 13,
   "id": "229bb1a3",
   "metadata": {},
   "outputs": [],
   "source": [
    "df_train_y = pd.DataFrame(train_y, columns=['MEDV'])"
   ]
  },
  {
   "cell_type": "code",
   "execution_count": 14,
   "id": "33fcfa6c",
   "metadata": {},
   "outputs": [],
   "source": [
    "df_test_y = pd.DataFrame(test_y, columns=['MEDV'])"
   ]
  },
  {
   "cell_type": "code",
   "execution_count": 15,
   "id": "854bdc8b",
   "metadata": {},
   "outputs": [
    {
     "data": {
      "text/html": [
       "<div>\n",
       "<style scoped>\n",
       "    .dataframe tbody tr th:only-of-type {\n",
       "        vertical-align: middle;\n",
       "    }\n",
       "\n",
       "    .dataframe tbody tr th {\n",
       "        vertical-align: top;\n",
       "    }\n",
       "\n",
       "    .dataframe thead th {\n",
       "        text-align: right;\n",
       "    }\n",
       "</style>\n",
       "<table border=\"1\" class=\"dataframe\">\n",
       "  <thead>\n",
       "    <tr style=\"text-align: right;\">\n",
       "      <th></th>\n",
       "      <th>CRIM</th>\n",
       "      <th>ZN</th>\n",
       "      <th>INDUS</th>\n",
       "      <th>CHAS</th>\n",
       "      <th>NOX</th>\n",
       "      <th>RM</th>\n",
       "      <th>AGE</th>\n",
       "      <th>DIS</th>\n",
       "      <th>RAD</th>\n",
       "      <th>TAX</th>\n",
       "      <th>PTRATIO</th>\n",
       "      <th>B</th>\n",
       "      <th>LASTAT</th>\n",
       "    </tr>\n",
       "  </thead>\n",
       "  <tbody>\n",
       "    <tr>\n",
       "      <th>0</th>\n",
       "      <td>1.23247</td>\n",
       "      <td>0.0</td>\n",
       "      <td>8.14</td>\n",
       "      <td>0.0</td>\n",
       "      <td>0.538</td>\n",
       "      <td>6.142</td>\n",
       "      <td>91.7</td>\n",
       "      <td>3.9769</td>\n",
       "      <td>4.0</td>\n",
       "      <td>307.0</td>\n",
       "      <td>21.0</td>\n",
       "      <td>396.90</td>\n",
       "      <td>18.72</td>\n",
       "    </tr>\n",
       "    <tr>\n",
       "      <th>1</th>\n",
       "      <td>0.02177</td>\n",
       "      <td>82.5</td>\n",
       "      <td>2.03</td>\n",
       "      <td>0.0</td>\n",
       "      <td>0.415</td>\n",
       "      <td>7.610</td>\n",
       "      <td>15.7</td>\n",
       "      <td>6.2700</td>\n",
       "      <td>2.0</td>\n",
       "      <td>348.0</td>\n",
       "      <td>14.7</td>\n",
       "      <td>395.38</td>\n",
       "      <td>3.11</td>\n",
       "    </tr>\n",
       "    <tr>\n",
       "      <th>2</th>\n",
       "      <td>4.89822</td>\n",
       "      <td>0.0</td>\n",
       "      <td>18.10</td>\n",
       "      <td>0.0</td>\n",
       "      <td>0.631</td>\n",
       "      <td>4.970</td>\n",
       "      <td>100.0</td>\n",
       "      <td>1.3325</td>\n",
       "      <td>24.0</td>\n",
       "      <td>666.0</td>\n",
       "      <td>20.2</td>\n",
       "      <td>375.52</td>\n",
       "      <td>3.26</td>\n",
       "    </tr>\n",
       "    <tr>\n",
       "      <th>3</th>\n",
       "      <td>0.03961</td>\n",
       "      <td>0.0</td>\n",
       "      <td>5.19</td>\n",
       "      <td>0.0</td>\n",
       "      <td>0.515</td>\n",
       "      <td>6.037</td>\n",
       "      <td>34.5</td>\n",
       "      <td>5.9853</td>\n",
       "      <td>5.0</td>\n",
       "      <td>224.0</td>\n",
       "      <td>20.2</td>\n",
       "      <td>396.90</td>\n",
       "      <td>8.01</td>\n",
       "    </tr>\n",
       "    <tr>\n",
       "      <th>4</th>\n",
       "      <td>3.69311</td>\n",
       "      <td>0.0</td>\n",
       "      <td>18.10</td>\n",
       "      <td>0.0</td>\n",
       "      <td>0.713</td>\n",
       "      <td>6.376</td>\n",
       "      <td>88.4</td>\n",
       "      <td>2.5671</td>\n",
       "      <td>24.0</td>\n",
       "      <td>666.0</td>\n",
       "      <td>20.2</td>\n",
       "      <td>391.43</td>\n",
       "      <td>14.65</td>\n",
       "    </tr>\n",
       "  </tbody>\n",
       "</table>\n",
       "</div>"
      ],
      "text/plain": [
       "      CRIM    ZN  INDUS  CHAS    NOX     RM    AGE     DIS   RAD    TAX  \\\n",
       "0  1.23247   0.0   8.14   0.0  0.538  6.142   91.7  3.9769   4.0  307.0   \n",
       "1  0.02177  82.5   2.03   0.0  0.415  7.610   15.7  6.2700   2.0  348.0   \n",
       "2  4.89822   0.0  18.10   0.0  0.631  4.970  100.0  1.3325  24.0  666.0   \n",
       "3  0.03961   0.0   5.19   0.0  0.515  6.037   34.5  5.9853   5.0  224.0   \n",
       "4  3.69311   0.0  18.10   0.0  0.713  6.376   88.4  2.5671  24.0  666.0   \n",
       "\n",
       "   PTRATIO       B  LASTAT  \n",
       "0     21.0  396.90   18.72  \n",
       "1     14.7  395.38    3.11  \n",
       "2     20.2  375.52    3.26  \n",
       "3     20.2  396.90    8.01  \n",
       "4     20.2  391.43   14.65  "
      ]
     },
     "execution_count": 15,
     "metadata": {},
     "output_type": "execute_result"
    }
   ],
   "source": [
    "df_train_x.head()"
   ]
  },
  {
   "cell_type": "markdown",
   "id": "15853eb9",
   "metadata": {},
   "source": [
    "### Feature Normalization"
   ]
  },
  {
   "cell_type": "code",
   "execution_count": 16,
   "id": "57429485",
   "metadata": {},
   "outputs": [],
   "source": [
    "mean = df_train_x.mean(axis=0)"
   ]
  },
  {
   "cell_type": "code",
   "execution_count": 17,
   "id": "25bbe4d0",
   "metadata": {},
   "outputs": [],
   "source": [
    "std = df_train_x.std(axis=0)"
   ]
  },
  {
   "cell_type": "code",
   "execution_count": 22,
   "id": "d243db2c",
   "metadata": {},
   "outputs": [
    {
     "name": "stdout",
     "output_type": "stream",
     "text": [
      "         CRIM         ZN      INDUS      CHAS       NOX        RM        AGE  \\\n",
      "0   -4.017020 -11.963215 -11.539653 -0.318396 -0.722378 -6.443306 -68.198589   \n",
      "1   -4.148037  -8.492119 -12.436690 -0.318396 -1.771033 -4.375081 -70.918638   \n",
      "2   -3.620325 -11.963215 -10.077378 -0.318396  0.070508 -8.094504 -67.901531   \n",
      "3   -4.146107 -11.963215 -11.972756 -0.318396 -0.918468 -6.591237 -70.245784   \n",
      "4   -3.750738 -11.963215 -10.077378 -0.318396  0.769611 -6.113630 -68.316696   \n",
      "..        ...        ...        ...       ...       ...       ...        ...   \n",
      "399 -4.126611 -11.963215 -11.720235 -0.318396 -1.489686 -7.204097 -69.261555   \n",
      "400 -4.132850 -11.121737 -11.712894 -0.318396 -1.353276 -6.305236 -70.897164   \n",
      "401 -4.146643 -10.490629 -11.845027 -0.318396 -1.575796 -6.599691 -70.646633   \n",
      "402 -3.917817 -11.963215  -9.860093 -0.318396  2.116664 -7.053347 -67.955216   \n",
      "403 -4.148836  -9.438781 -12.304557 -0.318396 -1.890392 -5.792407 -70.807689   \n",
      "\n",
      "          DIS        RAD         TAX    PTRATIO           B     LASTAT  \n",
      "0   -3.623717 -10.066068 -406.492948 -17.328912 -354.335646 -11.916619  \n",
      "1   -2.494231 -10.295996 -406.246516 -20.192051 -354.351797 -14.068373  \n",
      "2   -4.926239  -7.766784 -404.335166 -17.692485 -354.562824 -14.047696  \n",
      "3   -2.634462  -9.951103 -406.991822 -17.692485 -354.335646 -13.392934  \n",
      "4   -4.318126  -7.766784 -404.335166 -17.692485 -354.393769 -12.477646  \n",
      "..        ...        ...         ...        ...         ...        ...  \n",
      "399 -2.584024 -10.181032 -406.937727 -18.737758 -354.335646 -12.263987  \n",
      "400 -3.401031 -10.181032 -406.997833 -18.419632 -354.335646 -13.588674  \n",
      "401 -2.311639 -10.410960 -406.510979 -19.192225 -354.703828 -13.417747  \n",
      "402 -4.783053  -9.951103 -405.915936 -20.192051 -355.769589 -12.320503  \n",
      "403 -2.519056 -10.410960 -406.745390 -19.783031 -354.550286 -13.893310  \n",
      "\n",
      "[404 rows x 13 columns]\n"
     ]
    }
   ],
   "source": [
    "df_train_x -= mean\n",
    "print(df_train_x)"
   ]
  },
  {
   "cell_type": "code",
   "execution_count": 23,
   "id": "3ef765b3",
   "metadata": {},
   "outputs": [
    {
     "name": "stdout",
     "output_type": "stream",
     "text": [
      "         CRIM        ZN     INDUS      CHAS        NOX         RM       AGE  \\\n",
      "0   -0.434708 -0.503339 -1.694191 -1.319839  -6.158742  -9.077794 -2.440836   \n",
      "1   -0.448886 -0.357296 -1.825889 -1.319839 -15.099208  -6.163930 -2.538187   \n",
      "2   -0.391779 -0.503339 -1.479507 -1.319839   0.601123 -11.404121 -2.430205   \n",
      "3   -0.448677 -0.503339 -1.757776 -1.319839  -7.830536  -9.286211 -2.514106   \n",
      "4   -0.405892 -0.503339 -1.479507 -1.319839   6.561434  -8.613323 -2.445063   \n",
      "..        ...       ...       ...       ...        ...        ...       ...   \n",
      "399 -0.446567 -0.503339 -1.720703 -1.319839 -12.700546 -10.149651 -2.478880   \n",
      "400 -0.447243 -0.467935 -1.719625 -1.319839 -11.537559  -8.883272 -2.537419   \n",
      "401 -0.448735 -0.441382 -1.739024 -1.319839 -13.434682  -9.298120 -2.528452   \n",
      "402 -0.423972 -0.503339 -1.447606 -1.319839  18.045935  -9.937265 -2.432126   \n",
      "403 -0.448973 -0.397126 -1.806490 -1.319839 -16.116822  -8.160761 -2.534216   \n",
      "\n",
      "          DIS       RAD       TAX   PTRATIO         B    LASTAT  \n",
      "0   -1.784893 -1.157237 -2.443240 -7.875411 -3.765076 -1.642642  \n",
      "1   -1.228555 -1.183671 -2.441759 -9.176613 -3.765248 -1.939250  \n",
      "2   -2.426462 -0.892902 -2.430271 -8.040643 -3.767490 -1.936399  \n",
      "3   -1.297627 -1.144021 -2.446239 -8.040643 -3.765076 -1.846144  \n",
      "4   -2.126931 -0.892902 -2.430271 -8.040643 -3.765694 -1.719976  \n",
      "..        ...       ...       ...       ...       ...       ...  \n",
      "399 -1.272784 -1.170454 -2.445913 -8.515685 -3.765076 -1.690525  \n",
      "400 -1.675208 -1.170454 -2.446275 -8.371107 -3.765076 -1.873126  \n",
      "401 -1.138618 -1.196888 -2.443348 -8.722225 -3.768988 -1.849564  \n",
      "402 -2.355934 -1.144021 -2.439772 -9.176613 -3.780313 -1.698315  \n",
      "403 -1.240783 -1.196888 -2.444757 -8.990727 -3.767357 -1.915118  \n",
      "\n",
      "[404 rows x 13 columns]\n"
     ]
    }
   ],
   "source": [
    "df_train_x /= std\n",
    "print(df_train_x)"
   ]
  },
  {
   "cell_type": "code",
   "execution_count": 24,
   "id": "8a7ec236",
   "metadata": {},
   "outputs": [
    {
     "name": "stdout",
     "output_type": "stream",
     "text": [
      "         CRIM         ZN      INDUS      CHAS       NOX        RM        AGE  \\\n",
      "0   -2.193341 -11.963215 -10.077378 -0.318396  0.479739 -6.031915 -67.901531   \n",
      "1   -4.137051 -11.963215 -11.265109 -0.318396 -0.645647 -6.765937 -68.155640   \n",
      "2   -4.144445 -11.963215 -11.972756 -0.318396 -0.918468 -6.664499 -69.855672   \n",
      "3   -4.012584 -11.963215  -9.860093  3.826882 -0.151159 -6.291148 -68.166377   \n",
      "4   -4.142655 -11.963215 -12.075526 -0.318396 -1.481161 -6.472892 -69.447664   \n",
      "..        ...        ...        ...       ...       ...       ...        ...   \n",
      "97  -3.774419 -11.963215 -10.077378  3.826882  0.812239 -2.726701 -68.513542   \n",
      "98  -4.141849 -11.963215 -10.851092 -0.318396 -1.583469 -6.258744 -71.265803   \n",
      "99  -3.951949 -11.963215  -9.860093  3.826882 -0.151159 -4.104578 -67.965953   \n",
      "100 -4.111642 -11.963215 -11.824473  3.826882 -0.986673 -5.303528 -68.313117   \n",
      "101 -3.833968 -11.963215  -9.860093 -0.318396 -0.151159 -6.501070 -68.152061   \n",
      "\n",
      "          DIS        RAD         TAX    PTRATIO           B     LASTAT  \n",
      "0   -4.678876  -7.766784 -404.335166 -17.692485 -358.263449 -10.492684  \n",
      "1   -4.423386  -9.836139 -405.741631 -18.783205 -354.356366 -12.262609  \n",
      "2   -3.212283  -9.951103 -406.991822 -17.692485 -354.335646 -13.154463  \n",
      "3   -4.696756  -9.951103 -405.915936 -20.192051 -354.951726 -13.738925  \n",
      "4   -3.736661 -10.181032 -406.853580 -18.465078 -354.354241 -13.333661  \n",
      "..        ...        ...         ...        ...         ...        ...  \n",
      "97  -4.644397  -7.766784 -404.335166 -17.692485 -354.785646 -13.767872  \n",
      "98  -3.488460  -9.951103 -405.945989 -18.374185 -354.356685 -13.562483  \n",
      "99  -4.577409  -9.951103 -405.915936 -20.192051 -354.413108 -14.232408  \n",
      "100 -4.173019  -9.606211 -406.492948 -18.964992 -354.390900 -13.158599  \n",
      "101 -4.457865  -9.951103 -405.915936 -20.192051 -356.001124 -13.144814  \n",
      "\n",
      "[102 rows x 13 columns]\n"
     ]
    }
   ],
   "source": [
    "df_test_x -= mean\n",
    "print(df_test_x)"
   ]
  },
  {
   "cell_type": "code",
   "execution_count": 21,
   "id": "b65ca9e7",
   "metadata": {},
   "outputs": [],
   "source": [
    "df_test_x /= std"
   ]
  },
  {
   "cell_type": "markdown",
   "id": "92fe1305",
   "metadata": {},
   "source": [
    "### Feature Column"
   ]
  },
  {
   "cell_type": "code",
   "execution_count": 25,
   "id": "69d5dfd0",
   "metadata": {},
   "outputs": [],
   "source": [
    "feature_columns_numeric = []"
   ]
  },
  {
   "cell_type": "code",
   "execution_count": 29,
   "id": "2575b71c",
   "metadata": {},
   "outputs": [
    {
     "name": "stdout",
     "output_type": "stream",
     "text": [
      "WARNING:tensorflow:From C:\\Users\\mukes\\AppData\\Local\\Temp\\ipykernel_13188\\901625571.py:1: numeric_column (from tensorflow.python.feature_column.feature_column_v2) is deprecated and will be removed in a future version.\n",
      "Instructions for updating:\n",
      "Use Keras preprocessing layers instead, either directly or via the `tf.keras.utils.FeatureSpace` utility. Each of `tf.feature_column.*` has a functional equivalent in `tf.keras.layers` for feature preprocessing when training a Keras model.\n"
     ]
    }
   ],
   "source": [
    "feature_columns_numeric = [tf.feature_column.numeric_column(fname, dtype=tf.float32) for fname in features]"
   ]
  },
  {
   "cell_type": "markdown",
   "id": "d92b2895",
   "metadata": {},
   "source": [
    "### Build Data Pipeline"
   ]
  },
  {
   "cell_type": "code",
   "execution_count": 30,
   "id": "9e31ca62",
   "metadata": {},
   "outputs": [],
   "source": [
    "def estimator_input_fn(df_data, df_label, epochs=10, shuffle=True,\n",
    "    batch_size=32):\n",
    "    def input_funct():\n",
    "        ds = tf.data.Dataset.from_tensor_slices((dict(df_data), df_label))\n",
    "        if shuffle:\n",
    "            ds = ds.shuffle(100)\n",
    "        ds = ds.batch(batch_size).repeat(epochs)\n",
    "        return ds\n",
    "    return input_funct"
   ]
  },
  {
   "cell_type": "code",
   "execution_count": 31,
   "id": "ba113219",
   "metadata": {},
   "outputs": [],
   "source": [
    "train_input_fn = estimator_input_fn(df_train_x, df_train_y)"
   ]
  },
  {
   "cell_type": "code",
   "execution_count": 34,
   "id": "883a2725",
   "metadata": {},
   "outputs": [],
   "source": [
    "val_input_fn = estimator_input_fn(df_test_x, df_test_y, epochs=1,\n",
    "                                  shuffle=False)"
   ]
  },
  {
   "cell_type": "markdown",
   "id": "88084421",
   "metadata": {},
   "source": [
    "### Build Model"
   ]
  },
  {
   "cell_type": "code",
   "execution_count": 37,
   "id": "acbe621a",
   "metadata": {},
   "outputs": [
    {
     "name": "stdout",
     "output_type": "stream",
     "text": [
      "WARNING:tensorflow:From C:\\Users\\mukes\\AppData\\Local\\Temp\\ipykernel_13188\\3516278276.py:1: LinearRegressorV2.__init__ (from tensorflow_estimator.python.estimator.canned.linear) is deprecated and will be removed in a future version.\n",
      "Instructions for updating:\n",
      "Use tf.keras instead.\n",
      "WARNING:tensorflow:From C:\\Users\\mukes\\anaconda3\\Lib\\site-packages\\tensorflow_estimator\\python\\estimator\\canned\\linear.py:1344: RegressionHead.__init__ (from tensorflow_estimator.python.estimator.head.regression_head) is deprecated and will be removed in a future version.\n",
      "Instructions for updating:\n",
      "Use tf.keras instead.\n",
      "WARNING:tensorflow:From C:\\Users\\mukes\\anaconda3\\Lib\\site-packages\\tensorflow_estimator\\python\\estimator\\canned\\linear.py:1362: Estimator.__init__ (from tensorflow_estimator.python.estimator.estimator) is deprecated and will be removed in a future version.\n",
      "Instructions for updating:\n",
      "Use tf.keras instead.\n",
      "WARNING:tensorflow:From C:\\Users\\mukes\\anaconda3\\Lib\\site-packages\\tensorflow_estimator\\python\\estimator\\estimator.py:1844: RunConfig.__init__ (from tensorflow_estimator.python.estimator.run_config) is deprecated and will be removed in a future version.\n",
      "Instructions for updating:\n",
      "Use tf.keras instead.\n",
      "INFO:tensorflow:Using default config.\n",
      "WARNING:tensorflow:Using temporary folder as model directory: C:\\Users\\mukes\\AppData\\Local\\Temp\\tmpzzupqfc8\n",
      "INFO:tensorflow:Using config: {'_model_dir': 'C:\\\\Users\\\\mukes\\\\AppData\\\\Local\\\\Temp\\\\tmpzzupqfc8', '_tf_random_seed': None, '_save_summary_steps': 100, '_save_checkpoints_steps': None, '_save_checkpoints_secs': 600, '_session_config': allow_soft_placement: true\n",
      "graph_options {\n",
      "  rewrite_options {\n",
      "    meta_optimizer_iterations: ONE\n",
      "  }\n",
      "}\n",
      ", '_keep_checkpoint_max': 5, '_keep_checkpoint_every_n_hours': 10000, '_log_step_count_steps': 100, '_train_distribute': None, '_device_fn': None, '_protocol': None, '_eval_distribute': None, '_experimental_distribute': None, '_experimental_max_worker_delay_secs': None, '_session_creation_timeout_secs': 7200, '_checkpoint_save_graph_def': True, '_service': None, '_cluster_spec': ClusterSpec({}), '_task_type': 'worker', '_task_id': 0, '_global_id_in_cluster': 0, '_master': '', '_evaluation_master': '', '_is_chief': True, '_num_ps_replicas': 0, '_num_worker_replicas': 1}\n"
     ]
    }
   ],
   "source": [
    "model = tf.estimator.LinearRegressor(feature_columns=feature_columns_numeric, optimizer=\"RMSProp\")"
   ]
  },
  {
   "cell_type": "code",
   "execution_count": 38,
   "id": "78eff080",
   "metadata": {},
   "outputs": [
    {
     "name": "stdout",
     "output_type": "stream",
     "text": [
      "WARNING:tensorflow:From C:\\Users\\mukes\\anaconda3\\Lib\\site-packages\\tensorflow_estimator\\python\\estimator\\estimator.py:385: StopAtStepHook.__init__ (from tensorflow.python.training.basic_session_run_hooks) is deprecated and will be removed in a future version.\n",
      "Instructions for updating:\n",
      "Use tf.keras instead.\n",
      "INFO:tensorflow:Calling model_fn.\n",
      "WARNING:tensorflow:From C:\\Users\\mukes\\anaconda3\\Lib\\site-packages\\tensorflow_estimator\\python\\estimator\\model_fn.py:250: EstimatorSpec.__new__ (from tensorflow_estimator.python.estimator.model_fn) is deprecated and will be removed in a future version.\n",
      "Instructions for updating:\n",
      "Use tf.keras instead.\n",
      "INFO:tensorflow:Done calling model_fn.\n",
      "WARNING:tensorflow:From C:\\Users\\mukes\\anaconda3\\Lib\\site-packages\\tensorflow_estimator\\python\\estimator\\estimator.py:1416: NanTensorHook.__init__ (from tensorflow.python.training.basic_session_run_hooks) is deprecated and will be removed in a future version.\n",
      "Instructions for updating:\n",
      "Use tf.keras instead.\n",
      "WARNING:tensorflow:From C:\\Users\\mukes\\anaconda3\\Lib\\site-packages\\tensorflow_estimator\\python\\estimator\\estimator.py:1419: LoggingTensorHook.__init__ (from tensorflow.python.training.basic_session_run_hooks) is deprecated and will be removed in a future version.\n",
      "Instructions for updating:\n",
      "Use tf.keras instead.\n",
      "WARNING:tensorflow:From C:\\Users\\mukes\\anaconda3\\Lib\\site-packages\\tensorflow\\python\\training\\basic_session_run_hooks.py:232: SecondOrStepTimer.__init__ (from tensorflow.python.training.basic_session_run_hooks) is deprecated and will be removed in a future version.\n",
      "Instructions for updating:\n",
      "Use tf.keras instead.\n",
      "WARNING:tensorflow:From C:\\Users\\mukes\\anaconda3\\Lib\\site-packages\\tensorflow_estimator\\python\\estimator\\estimator.py:1456: CheckpointSaverHook.__init__ (from tensorflow.python.training.basic_session_run_hooks) is deprecated and will be removed in a future version.\n",
      "Instructions for updating:\n",
      "Use tf.keras instead.\n",
      "INFO:tensorflow:Create CheckpointSaverHook.\n",
      "WARNING:tensorflow:From C:\\Users\\mukes\\anaconda3\\Lib\\site-packages\\tensorflow\\python\\training\\monitored_session.py:579: StepCounterHook.__init__ (from tensorflow.python.training.basic_session_run_hooks) is deprecated and will be removed in a future version.\n",
      "Instructions for updating:\n",
      "Use tf.keras instead.\n",
      "WARNING:tensorflow:From C:\\Users\\mukes\\anaconda3\\Lib\\site-packages\\tensorflow\\python\\training\\monitored_session.py:586: SummarySaverHook.__init__ (from tensorflow.python.training.basic_session_run_hooks) is deprecated and will be removed in a future version.\n",
      "Instructions for updating:\n",
      "Use tf.keras instead.\n",
      "INFO:tensorflow:Graph was finalized.\n",
      "INFO:tensorflow:Running local_init_op.\n",
      "INFO:tensorflow:Done running local_init_op.\n",
      "INFO:tensorflow:Calling checkpoint listeners before saving checkpoint 0...\n",
      "INFO:tensorflow:Saving checkpoints for 0 into C:\\Users\\mukes\\AppData\\Local\\Temp\\tmpzzupqfc8\\model.ckpt.\n",
      "INFO:tensorflow:Calling checkpoint listeners after saving checkpoint 0...\n",
      "WARNING:tensorflow:From C:\\Users\\mukes\\anaconda3\\Lib\\site-packages\\tensorflow\\python\\training\\monitored_session.py:1455: SessionRunArgs.__new__ (from tensorflow.python.training.session_run_hook) is deprecated and will be removed in a future version.\n",
      "Instructions for updating:\n",
      "Use tf.keras instead.\n",
      "WARNING:tensorflow:From C:\\Users\\mukes\\anaconda3\\Lib\\site-packages\\tensorflow\\python\\training\\monitored_session.py:1454: SessionRunContext.__init__ (from tensorflow.python.training.session_run_hook) is deprecated and will be removed in a future version.\n",
      "Instructions for updating:\n",
      "Use tf.keras instead.\n",
      "WARNING:tensorflow:From C:\\Users\\mukes\\anaconda3\\Lib\\site-packages\\tensorflow\\python\\training\\monitored_session.py:1474: SessionRunValues.__new__ (from tensorflow.python.training.session_run_hook) is deprecated and will be removed in a future version.\n",
      "Instructions for updating:\n",
      "Use tf.keras instead.\n",
      "INFO:tensorflow:loss = 535.09064, step = 0\n",
      "INFO:tensorflow:Calling checkpoint listeners before saving checkpoint 100...\n",
      "INFO:tensorflow:Saving checkpoints for 100 into C:\\Users\\mukes\\AppData\\Local\\Temp\\tmpzzupqfc8\\model.ckpt.\n",
      "INFO:tensorflow:Calling checkpoint listeners after saving checkpoint 100...\n",
      "INFO:tensorflow:Loss for final step: 35.612366.\n"
     ]
    },
    {
     "data": {
      "text/plain": [
       "<tensorflow_estimator.python.estimator.canned.linear.LinearRegressorV2 at 0x1dfc320c890>"
      ]
     },
     "execution_count": 38,
     "metadata": {},
     "output_type": "execute_result"
    }
   ],
   "source": [
    "model.train(train_input_fn, steps=100)"
   ]
  },
  {
   "cell_type": "code",
   "execution_count": 39,
   "id": "c3f7383a",
   "metadata": {},
   "outputs": [
    {
     "name": "stdout",
     "output_type": "stream",
     "text": [
      "INFO:tensorflow:Calling model_fn.\n",
      "INFO:tensorflow:Done calling model_fn.\n",
      "INFO:tensorflow:Starting evaluation at 2023-09-08T18:12:48\n",
      "WARNING:tensorflow:From C:\\Users\\mukes\\anaconda3\\Lib\\site-packages\\tensorflow\\python\\training\\evaluation.py:260: FinalOpsHook.__init__ (from tensorflow.python.training.basic_session_run_hooks) is deprecated and will be removed in a future version.\n",
      "Instructions for updating:\n",
      "Use tf.keras instead.\n",
      "INFO:tensorflow:Graph was finalized.\n",
      "INFO:tensorflow:Restoring parameters from C:\\Users\\mukes\\AppData\\Local\\Temp\\tmpzzupqfc8\\model.ckpt-100\n",
      "INFO:tensorflow:Running local_init_op.\n",
      "INFO:tensorflow:Done running local_init_op.\n",
      "INFO:tensorflow:Inference Time : 0.64075s\n",
      "INFO:tensorflow:Finished evaluation at 2023-09-08-18:12:48\n",
      "INFO:tensorflow:Saving dict for global step 100: average_loss = 817919.94, global_step = 100, label/mean = 23.078432, loss = 817774.4, prediction/mean = 927.4516\n",
      "INFO:tensorflow:Saving 'checkpoint_path' summary for global step 100: C:\\Users\\mukes\\AppData\\Local\\Temp\\tmpzzupqfc8\\model.ckpt-100\n"
     ]
    }
   ],
   "source": [
    "result = model.evaluate(val_input_fn)"
   ]
  },
  {
   "cell_type": "code",
   "execution_count": 40,
   "id": "de6bf3ef",
   "metadata": {},
   "outputs": [
    {
     "name": "stdout",
     "output_type": "stream",
     "text": [
      "{'average_loss': 817919.94, 'label/mean': 23.078432, 'loss': 817774.4, 'prediction/mean': 927.4516, 'global_step': 100}\n"
     ]
    }
   ],
   "source": [
    "print(result)"
   ]
  },
  {
   "cell_type": "markdown",
   "id": "479c43a4",
   "metadata": {},
   "source": [
    "### Predict Results"
   ]
  },
  {
   "cell_type": "code",
   "execution_count": 41,
   "id": "79858766",
   "metadata": {},
   "outputs": [],
   "source": [
    "result = model.predict(val_input_fn)"
   ]
  },
  {
   "cell_type": "code",
   "execution_count": 48,
   "id": "4492cb57",
   "metadata": {},
   "outputs": [
    {
     "name": "stdout",
     "output_type": "stream",
     "text": [
      "Predicted Value:  922.11847 Expected:  7.2\n",
      "Predicted Value:  931.12256 Expected:  18.8\n",
      "Predicted Value:  930.70215 Expected:  19.0\n",
      "Predicted Value:  935.8619 Expected:  27.0\n",
      "Predicted Value:  916.8761 Expected:  22.2\n",
      "Predicted Value:  939.02655 Expected:  24.5\n",
      "Predicted Value:  935.25134 Expected:  31.2\n",
      "Predicted Value:  932.7129 Expected:  22.9\n",
      "Predicted Value:  933.4481 Expected:  20.5\n",
      "Predicted Value:  927.08575 Expected:  23.2\n",
      "Predicted Value:  920.8363 Expected:  18.6\n",
      "Predicted Value:  931.28064 Expected:  14.5\n",
      "Predicted Value:  932.3645 Expected:  17.8\n",
      "Predicted Value:  927.1042 Expected:  50.0\n",
      "Predicted Value:  911.8659 Expected:  20.8\n",
      "Predicted Value:  923.0796 Expected:  24.3\n",
      "Predicted Value:  936.64526 Expected:  24.2\n",
      "Predicted Value:  934.0978 Expected:  19.8\n",
      "Predicted Value:  915.91815 Expected:  19.1\n",
      "Predicted Value:  941.9326 Expected:  22.7\n",
      "Predicted Value:  937.6095 Expected:  12.0\n",
      "Predicted Value:  931.5648 Expected:  10.2\n",
      "Predicted Value:  923.4543 Expected:  20.0\n",
      "Predicted Value:  918.6217 Expected:  18.5\n",
      "Predicted Value:  919.9523 Expected:  20.9\n",
      "Predicted Value:  928.7363 Expected:  23.0\n",
      "Predicted Value:  931.19324 Expected:  27.5\n",
      "Predicted Value:  929.3245 Expected:  30.1\n",
      "Predicted Value:  918.58185 Expected:  9.5\n",
      "Predicted Value:  930.6537 Expected:  22.0\n",
      "Predicted Value:  915.5772 Expected:  21.2\n",
      "Predicted Value:  910.2278 Expected:  14.1\n"
     ]
    }
   ],
   "source": [
    "for pred,exp in zip(result, test_y[:32]): \n",
    "     print(\"Predicted Value: \", pred['predictions'][0], \"Expected: \", exp)"
   ]
  },
  {
   "cell_type": "code",
   "execution_count": null,
   "id": "9aa735af",
   "metadata": {},
   "outputs": [],
   "source": []
  }
 ],
 "metadata": {
  "kernelspec": {
   "display_name": "Python 3 (ipykernel)",
   "language": "python",
   "name": "python3"
  },
  "language_info": {
   "codemirror_mode": {
    "name": "ipython",
    "version": 3
   },
   "file_extension": ".py",
   "mimetype": "text/x-python",
   "name": "python",
   "nbconvert_exporter": "python",
   "pygments_lexer": "ipython3",
   "version": "3.11.4"
  }
 },
 "nbformat": 4,
 "nbformat_minor": 5
}
