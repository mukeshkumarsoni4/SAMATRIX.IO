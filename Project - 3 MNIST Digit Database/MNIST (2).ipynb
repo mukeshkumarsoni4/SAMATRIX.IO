{
 "cells": [
  {
   "cell_type": "markdown",
   "id": "7146391d",
   "metadata": {},
   "source": [
    "## Handwritten Digit Recognition using LeNet-5 CNN Architecture on MNIST Digit Database"
   ]
  },
  {
   "cell_type": "markdown",
   "id": "f93832ec",
   "metadata": {},
   "source": [
    "Handwritten Digit Recognition using the LeNet-5 CNN architecture on the MNIST dataset is a popular computer vision task. In this approach, we first load and preprocess the MNIST dataset, normalizing pixel values and one-hot encoding labels. Then, we define the LeNet-5 model, consisting of convolutional and fully connected layers. After compiling the model, we train it on the training data, evaluating its performance on the test set. Finally, we can make predictions using the trained model, achieving accurate recognition of handwritten digits."
   ]
  },
  {
   "cell_type": "markdown",
   "id": "7dfeaa97",
   "metadata": {},
   "source": [
    "## Importing Libraries"
   ]
  },
  {
   "cell_type": "code",
   "execution_count": 2,
   "id": "e84b5ec7",
   "metadata": {},
   "outputs": [],
   "source": [
    "import numpy as np\n",
    "import pandas as pd"
   ]
  },
  {
   "cell_type": "code",
   "execution_count": 11,
   "id": "efb8ae87",
   "metadata": {},
   "outputs": [],
   "source": [
    "from tensorflow.keras import datasets"
   ]
  },
  {
   "cell_type": "code",
   "execution_count": 12,
   "id": "7739ec9e",
   "metadata": {},
   "outputs": [
    {
     "data": {
      "text/plain": [
       "<module 'keras.api._v2.keras.datasets' from 'C:\\\\Users\\\\mukes\\\\anaconda3\\\\Lib\\\\site-packages\\\\keras\\\\api\\\\_v2\\\\keras\\\\datasets\\\\__init__.py'>"
      ]
     },
     "execution_count": 12,
     "metadata": {},
     "output_type": "execute_result"
    }
   ],
   "source": [
    "datasets"
   ]
  },
  {
   "cell_type": "markdown",
   "id": "588a9706",
   "metadata": {},
   "source": [
    "## Training and testing Data"
   ]
  },
  {
   "cell_type": "code",
   "execution_count": 13,
   "id": "02f58777",
   "metadata": {},
   "outputs": [],
   "source": [
    "(x_train, y_train), (x_test, y_test) = datasets.mnist.load_data()"
   ]
  },
  {
   "cell_type": "code",
   "execution_count": 14,
   "id": "206f0340",
   "metadata": {},
   "outputs": [
    {
     "data": {
      "text/plain": [
       "array([[[0, 0, 0, ..., 0, 0, 0],\n",
       "        [0, 0, 0, ..., 0, 0, 0],\n",
       "        [0, 0, 0, ..., 0, 0, 0],\n",
       "        ...,\n",
       "        [0, 0, 0, ..., 0, 0, 0],\n",
       "        [0, 0, 0, ..., 0, 0, 0],\n",
       "        [0, 0, 0, ..., 0, 0, 0]],\n",
       "\n",
       "       [[0, 0, 0, ..., 0, 0, 0],\n",
       "        [0, 0, 0, ..., 0, 0, 0],\n",
       "        [0, 0, 0, ..., 0, 0, 0],\n",
       "        ...,\n",
       "        [0, 0, 0, ..., 0, 0, 0],\n",
       "        [0, 0, 0, ..., 0, 0, 0],\n",
       "        [0, 0, 0, ..., 0, 0, 0]],\n",
       "\n",
       "       [[0, 0, 0, ..., 0, 0, 0],\n",
       "        [0, 0, 0, ..., 0, 0, 0],\n",
       "        [0, 0, 0, ..., 0, 0, 0],\n",
       "        ...,\n",
       "        [0, 0, 0, ..., 0, 0, 0],\n",
       "        [0, 0, 0, ..., 0, 0, 0],\n",
       "        [0, 0, 0, ..., 0, 0, 0]],\n",
       "\n",
       "       ...,\n",
       "\n",
       "       [[0, 0, 0, ..., 0, 0, 0],\n",
       "        [0, 0, 0, ..., 0, 0, 0],\n",
       "        [0, 0, 0, ..., 0, 0, 0],\n",
       "        ...,\n",
       "        [0, 0, 0, ..., 0, 0, 0],\n",
       "        [0, 0, 0, ..., 0, 0, 0],\n",
       "        [0, 0, 0, ..., 0, 0, 0]],\n",
       "\n",
       "       [[0, 0, 0, ..., 0, 0, 0],\n",
       "        [0, 0, 0, ..., 0, 0, 0],\n",
       "        [0, 0, 0, ..., 0, 0, 0],\n",
       "        ...,\n",
       "        [0, 0, 0, ..., 0, 0, 0],\n",
       "        [0, 0, 0, ..., 0, 0, 0],\n",
       "        [0, 0, 0, ..., 0, 0, 0]],\n",
       "\n",
       "       [[0, 0, 0, ..., 0, 0, 0],\n",
       "        [0, 0, 0, ..., 0, 0, 0],\n",
       "        [0, 0, 0, ..., 0, 0, 0],\n",
       "        ...,\n",
       "        [0, 0, 0, ..., 0, 0, 0],\n",
       "        [0, 0, 0, ..., 0, 0, 0],\n",
       "        [0, 0, 0, ..., 0, 0, 0]]], dtype=uint8)"
      ]
     },
     "execution_count": 14,
     "metadata": {},
     "output_type": "execute_result"
    }
   ],
   "source": [
    "x_train"
   ]
  },
  {
   "cell_type": "code",
   "execution_count": 16,
   "id": "55d930a2",
   "metadata": {},
   "outputs": [
    {
     "data": {
      "text/plain": [
       "array([5, 0, 4, ..., 5, 6, 8], dtype=uint8)"
      ]
     },
     "execution_count": 16,
     "metadata": {},
     "output_type": "execute_result"
    }
   ],
   "source": [
    "y_train"
   ]
  },
  {
   "cell_type": "code",
   "execution_count": 17,
   "id": "d3c180fc",
   "metadata": {},
   "outputs": [
    {
     "data": {
      "text/plain": [
       "(60000, 28, 28)"
      ]
     },
     "execution_count": 17,
     "metadata": {},
     "output_type": "execute_result"
    }
   ],
   "source": [
    "x_train.shape"
   ]
  },
  {
   "cell_type": "code",
   "execution_count": 18,
   "id": "c212d8d8",
   "metadata": {},
   "outputs": [
    {
     "data": {
      "text/plain": [
       "(10000, 28, 28)"
      ]
     },
     "execution_count": 18,
     "metadata": {},
     "output_type": "execute_result"
    }
   ],
   "source": [
    "x_test.shape"
   ]
  },
  {
   "cell_type": "code",
   "execution_count": 19,
   "id": "5d78d6ea",
   "metadata": {},
   "outputs": [],
   "source": [
    "width, height = 28, 28\n",
    "input_shape = (width, height, 1 )"
   ]
  },
  {
   "cell_type": "code",
   "execution_count": 20,
   "id": "e3c93ea6",
   "metadata": {},
   "outputs": [
    {
     "data": {
      "text/plain": [
       "(28, 28, 1)"
      ]
     },
     "execution_count": 20,
     "metadata": {},
     "output_type": "execute_result"
    }
   ],
   "source": [
    "input_shape"
   ]
  },
  {
   "cell_type": "code",
   "execution_count": 21,
   "id": "a3a6d5fa",
   "metadata": {},
   "outputs": [],
   "source": [
    "x_train = x_train.reshape(x_train.shape[0], height, width,1)\n",
    "x_test = x_test.reshape(x_test.shape[0], height, width, 1)"
   ]
  },
  {
   "cell_type": "code",
   "execution_count": 22,
   "id": "5f3e9838",
   "metadata": {},
   "outputs": [
    {
     "data": {
      "text/plain": [
       "(60000, 28, 28, 1)"
      ]
     },
     "execution_count": 22,
     "metadata": {},
     "output_type": "execute_result"
    }
   ],
   "source": [
    "x_train.shape"
   ]
  },
  {
   "cell_type": "code",
   "execution_count": 25,
   "id": "f6cedc4d",
   "metadata": {},
   "outputs": [
    {
     "data": {
      "text/plain": [
       "(60000,)"
      ]
     },
     "execution_count": 25,
     "metadata": {},
     "output_type": "execute_result"
    }
   ],
   "source": [
    "y_train.shape"
   ]
  },
  {
   "cell_type": "code",
   "execution_count": 26,
   "id": "040f1b82",
   "metadata": {},
   "outputs": [],
   "source": [
    "from sklearn.model_selection import train_test_split"
   ]
  },
  {
   "cell_type": "code",
   "execution_count": 28,
   "id": "9c1fde0c",
   "metadata": {},
   "outputs": [],
   "source": [
    "x_train, x_val, y_train, y_val = train_test_split(x_train, y_train,\n",
    "                                                  test_size = 0.1)"
   ]
  },
  {
   "cell_type": "code",
   "execution_count": 29,
   "id": "79d4cdba",
   "metadata": {},
   "outputs": [
    {
     "data": {
      "text/plain": [
       "48600"
      ]
     },
     "execution_count": 29,
     "metadata": {},
     "output_type": "execute_result"
    }
   ],
   "source": [
    "len(x_train)"
   ]
  },
  {
   "cell_type": "code",
   "execution_count": 30,
   "id": "5c888d17",
   "metadata": {},
   "outputs": [
    {
     "data": {
      "text/plain": [
       "5400"
      ]
     },
     "execution_count": 30,
     "metadata": {},
     "output_type": "execute_result"
    }
   ],
   "source": [
    "len(x_val)"
   ]
  },
  {
   "cell_type": "markdown",
   "id": "3880cd96",
   "metadata": {},
   "source": [
    "## Feature Scaling "
   ]
  },
  {
   "cell_type": "code",
   "execution_count": 32,
   "id": "4e732a58",
   "metadata": {},
   "outputs": [],
   "source": [
    "x_train = (x_train - x_train.mean()) / x_train.std()\n",
    "x_val = (x_val - x_val.mean()) / x_val.std()\n",
    "x_test = (x_test - x_test.mean()) / x_test.std()"
   ]
  },
  {
   "cell_type": "code",
   "execution_count": 33,
   "id": "0ff20507",
   "metadata": {},
   "outputs": [
    {
     "data": {
      "text/plain": [
       "array([[[[-0.42412437],\n",
       "         [-0.42412437],\n",
       "         [-0.42412437],\n",
       "         ...,\n",
       "         [-0.42412437],\n",
       "         [-0.42412437],\n",
       "         [-0.42412437]],\n",
       "\n",
       "        [[-0.42412437],\n",
       "         [-0.42412437],\n",
       "         [-0.42412437],\n",
       "         ...,\n",
       "         [-0.42412437],\n",
       "         [-0.42412437],\n",
       "         [-0.42412437]],\n",
       "\n",
       "        [[-0.42412437],\n",
       "         [-0.42412437],\n",
       "         [-0.42412437],\n",
       "         ...,\n",
       "         [-0.42412437],\n",
       "         [-0.42412437],\n",
       "         [-0.42412437]],\n",
       "\n",
       "        ...,\n",
       "\n",
       "        [[-0.42412437],\n",
       "         [-0.42412437],\n",
       "         [-0.42412437],\n",
       "         ...,\n",
       "         [-0.42412437],\n",
       "         [-0.42412437],\n",
       "         [-0.42412437]],\n",
       "\n",
       "        [[-0.42412437],\n",
       "         [-0.42412437],\n",
       "         [-0.42412437],\n",
       "         ...,\n",
       "         [-0.42412437],\n",
       "         [-0.42412437],\n",
       "         [-0.42412437]],\n",
       "\n",
       "        [[-0.42412437],\n",
       "         [-0.42412437],\n",
       "         [-0.42412437],\n",
       "         ...,\n",
       "         [-0.42412437],\n",
       "         [-0.42412437],\n",
       "         [-0.42412437]]],\n",
       "\n",
       "\n",
       "       [[[-0.42412437],\n",
       "         [-0.42412437],\n",
       "         [-0.42412437],\n",
       "         ...,\n",
       "         [-0.42412437],\n",
       "         [-0.42412437],\n",
       "         [-0.42412437]],\n",
       "\n",
       "        [[-0.42412437],\n",
       "         [-0.42412437],\n",
       "         [-0.42412437],\n",
       "         ...,\n",
       "         [-0.42412437],\n",
       "         [-0.42412437],\n",
       "         [-0.42412437]],\n",
       "\n",
       "        [[-0.42412437],\n",
       "         [-0.42412437],\n",
       "         [-0.42412437],\n",
       "         ...,\n",
       "         [-0.42412437],\n",
       "         [-0.42412437],\n",
       "         [-0.42412437]],\n",
       "\n",
       "        ...,\n",
       "\n",
       "        [[-0.42412437],\n",
       "         [-0.42412437],\n",
       "         [-0.42412437],\n",
       "         ...,\n",
       "         [-0.42412437],\n",
       "         [-0.42412437],\n",
       "         [-0.42412437]],\n",
       "\n",
       "        [[-0.42412437],\n",
       "         [-0.42412437],\n",
       "         [-0.42412437],\n",
       "         ...,\n",
       "         [-0.42412437],\n",
       "         [-0.42412437],\n",
       "         [-0.42412437]],\n",
       "\n",
       "        [[-0.42412437],\n",
       "         [-0.42412437],\n",
       "         [-0.42412437],\n",
       "         ...,\n",
       "         [-0.42412437],\n",
       "         [-0.42412437],\n",
       "         [-0.42412437]]],\n",
       "\n",
       "\n",
       "       [[[-0.42412437],\n",
       "         [-0.42412437],\n",
       "         [-0.42412437],\n",
       "         ...,\n",
       "         [-0.42412437],\n",
       "         [-0.42412437],\n",
       "         [-0.42412437]],\n",
       "\n",
       "        [[-0.42412437],\n",
       "         [-0.42412437],\n",
       "         [-0.42412437],\n",
       "         ...,\n",
       "         [-0.42412437],\n",
       "         [-0.42412437],\n",
       "         [-0.42412437]],\n",
       "\n",
       "        [[-0.42412437],\n",
       "         [-0.42412437],\n",
       "         [-0.42412437],\n",
       "         ...,\n",
       "         [-0.42412437],\n",
       "         [-0.42412437],\n",
       "         [-0.42412437]],\n",
       "\n",
       "        ...,\n",
       "\n",
       "        [[-0.42412437],\n",
       "         [-0.42412437],\n",
       "         [-0.42412437],\n",
       "         ...,\n",
       "         [-0.42412437],\n",
       "         [-0.42412437],\n",
       "         [-0.42412437]],\n",
       "\n",
       "        [[-0.42412437],\n",
       "         [-0.42412437],\n",
       "         [-0.42412437],\n",
       "         ...,\n",
       "         [-0.42412437],\n",
       "         [-0.42412437],\n",
       "         [-0.42412437]],\n",
       "\n",
       "        [[-0.42412437],\n",
       "         [-0.42412437],\n",
       "         [-0.42412437],\n",
       "         ...,\n",
       "         [-0.42412437],\n",
       "         [-0.42412437],\n",
       "         [-0.42412437]]],\n",
       "\n",
       "\n",
       "       ...,\n",
       "\n",
       "\n",
       "       [[[-0.42412437],\n",
       "         [-0.42412437],\n",
       "         [-0.42412437],\n",
       "         ...,\n",
       "         [-0.42412437],\n",
       "         [-0.42412437],\n",
       "         [-0.42412437]],\n",
       "\n",
       "        [[-0.42412437],\n",
       "         [-0.42412437],\n",
       "         [-0.42412437],\n",
       "         ...,\n",
       "         [-0.42412437],\n",
       "         [-0.42412437],\n",
       "         [-0.42412437]],\n",
       "\n",
       "        [[-0.42412437],\n",
       "         [-0.42412437],\n",
       "         [-0.42412437],\n",
       "         ...,\n",
       "         [-0.42412437],\n",
       "         [-0.42412437],\n",
       "         [-0.42412437]],\n",
       "\n",
       "        ...,\n",
       "\n",
       "        [[-0.42412437],\n",
       "         [-0.42412437],\n",
       "         [-0.42412437],\n",
       "         ...,\n",
       "         [-0.42412437],\n",
       "         [-0.42412437],\n",
       "         [-0.42412437]],\n",
       "\n",
       "        [[-0.42412437],\n",
       "         [-0.42412437],\n",
       "         [-0.42412437],\n",
       "         ...,\n",
       "         [-0.42412437],\n",
       "         [-0.42412437],\n",
       "         [-0.42412437]],\n",
       "\n",
       "        [[-0.42412437],\n",
       "         [-0.42412437],\n",
       "         [-0.42412437],\n",
       "         ...,\n",
       "         [-0.42412437],\n",
       "         [-0.42412437],\n",
       "         [-0.42412437]]],\n",
       "\n",
       "\n",
       "       [[[-0.42412437],\n",
       "         [-0.42412437],\n",
       "         [-0.42412437],\n",
       "         ...,\n",
       "         [-0.42412437],\n",
       "         [-0.42412437],\n",
       "         [-0.42412437]],\n",
       "\n",
       "        [[-0.42412437],\n",
       "         [-0.42412437],\n",
       "         [-0.42412437],\n",
       "         ...,\n",
       "         [-0.42412437],\n",
       "         [-0.42412437],\n",
       "         [-0.42412437]],\n",
       "\n",
       "        [[-0.42412437],\n",
       "         [-0.42412437],\n",
       "         [-0.42412437],\n",
       "         ...,\n",
       "         [-0.42412437],\n",
       "         [-0.42412437],\n",
       "         [-0.42412437]],\n",
       "\n",
       "        ...,\n",
       "\n",
       "        [[-0.42412437],\n",
       "         [-0.42412437],\n",
       "         [-0.42412437],\n",
       "         ...,\n",
       "         [-0.42412437],\n",
       "         [-0.42412437],\n",
       "         [-0.42412437]],\n",
       "\n",
       "        [[-0.42412437],\n",
       "         [-0.42412437],\n",
       "         [-0.42412437],\n",
       "         ...,\n",
       "         [-0.42412437],\n",
       "         [-0.42412437],\n",
       "         [-0.42412437]],\n",
       "\n",
       "        [[-0.42412437],\n",
       "         [-0.42412437],\n",
       "         [-0.42412437],\n",
       "         ...,\n",
       "         [-0.42412437],\n",
       "         [-0.42412437],\n",
       "         [-0.42412437]]],\n",
       "\n",
       "\n",
       "       [[[-0.42412437],\n",
       "         [-0.42412437],\n",
       "         [-0.42412437],\n",
       "         ...,\n",
       "         [-0.42412437],\n",
       "         [-0.42412437],\n",
       "         [-0.42412437]],\n",
       "\n",
       "        [[-0.42412437],\n",
       "         [-0.42412437],\n",
       "         [-0.42412437],\n",
       "         ...,\n",
       "         [-0.42412437],\n",
       "         [-0.42412437],\n",
       "         [-0.42412437]],\n",
       "\n",
       "        [[-0.42412437],\n",
       "         [-0.42412437],\n",
       "         [-0.42412437],\n",
       "         ...,\n",
       "         [-0.42412437],\n",
       "         [-0.42412437],\n",
       "         [-0.42412437]],\n",
       "\n",
       "        ...,\n",
       "\n",
       "        [[-0.42412437],\n",
       "         [-0.42412437],\n",
       "         [-0.42412437],\n",
       "         ...,\n",
       "         [-0.42412437],\n",
       "         [-0.42412437],\n",
       "         [-0.42412437]],\n",
       "\n",
       "        [[-0.42412437],\n",
       "         [-0.42412437],\n",
       "         [-0.42412437],\n",
       "         ...,\n",
       "         [-0.42412437],\n",
       "         [-0.42412437],\n",
       "         [-0.42412437]],\n",
       "\n",
       "        [[-0.42412437],\n",
       "         [-0.42412437],\n",
       "         [-0.42412437],\n",
       "         ...,\n",
       "         [-0.42412437],\n",
       "         [-0.42412437],\n",
       "         [-0.42412437]]]])"
      ]
     },
     "execution_count": 33,
     "metadata": {},
     "output_type": "execute_result"
    }
   ],
   "source": [
    "x_train"
   ]
  },
  {
   "cell_type": "code",
   "execution_count": 35,
   "id": "0cbbf42d",
   "metadata": {},
   "outputs": [],
   "source": [
    "from tensorflow import keras"
   ]
  },
  {
   "cell_type": "code",
   "execution_count": 38,
   "id": "556f29a9",
   "metadata": {},
   "outputs": [],
   "source": [
    "num_labels = 10\n",
    "\n",
    "y_train = keras.utils.to_categorical(y_train)"
   ]
  },
  {
   "cell_type": "code",
   "execution_count": 39,
   "id": "d26869e8",
   "metadata": {},
   "outputs": [
    {
     "data": {
      "text/plain": [
       "array([[0., 0., 0., ..., 0., 0., 1.],\n",
       "       [0., 0., 0., ..., 0., 1., 0.],\n",
       "       [0., 0., 0., ..., 0., 0., 0.],\n",
       "       ...,\n",
       "       [1., 0., 0., ..., 0., 0., 0.],\n",
       "       [0., 0., 0., ..., 0., 0., 1.],\n",
       "       [1., 0., 0., ..., 0., 0., 0.]], dtype=float32)"
      ]
     },
     "execution_count": 39,
     "metadata": {},
     "output_type": "execute_result"
    }
   ],
   "source": [
    "y_train"
   ]
  },
  {
   "cell_type": "code",
   "execution_count": 40,
   "id": "ea4f8677",
   "metadata": {},
   "outputs": [],
   "source": [
    "y_val = keras.utils.to_categorical(y_val)\n",
    "y_test = keras.utils.to_categorical(y_test)"
   ]
  },
  {
   "cell_type": "markdown",
   "id": "9006da8a",
   "metadata": {},
   "source": [
    "## Model"
   ]
  },
  {
   "cell_type": "code",
   "execution_count": 55,
   "id": "26b63d94",
   "metadata": {},
   "outputs": [],
   "source": [
    "from tensorflow.keras.models import Sequential\n",
    "from tensorflow.keras.layers import Dense,Dropout,Flatten,Input,Conv2D, MaxPooling2D, AveragePooling2D"
   ]
  },
  {
   "cell_type": "code",
   "execution_count": 56,
   "id": "0fd51341",
   "metadata": {},
   "outputs": [],
   "source": [
    "model = Sequential()"
   ]
  },
  {
   "cell_type": "code",
   "execution_count": 57,
   "id": "4da56264",
   "metadata": {},
   "outputs": [],
   "source": [
    "model.add(Conv2D(6, kernel_size = (5,5), strides = (1,1), activation = 'tanh', input_shape = (28,28,1)))\n",
    "model.add(AveragePooling2D(pool_size = (2,2), strides = (1,1)))\n",
    "model.add(Conv2D(16, kernel_size= (5,5), strides = (1,1), activation = 'tanh'))\n",
    "model.add(AveragePooling2D(pool_size= (2,2), strides = (1,1)))\n",
    "model.add(Conv2D(120, kernel_size= (5,5), strides = (1,1), activation = 'tanh'))\n",
    "\n",
    "model.add(Flatten())\n",
    "model.add(Dense(84, activation = 'tanh'))\n",
    "model.add(Dense(num_labels, activation = 'softmax'))"
   ]
  },
  {
   "cell_type": "code",
   "execution_count": 58,
   "id": "a82ade9b",
   "metadata": {},
   "outputs": [
    {
     "name": "stdout",
     "output_type": "stream",
     "text": [
      "Model: \"sequential_2\"\n",
      "_________________________________________________________________\n",
      " Layer (type)                Output Shape              Param #   \n",
      "=================================================================\n",
      " conv2d_5 (Conv2D)           (None, 24, 24, 6)         156       \n",
      "                                                                 \n",
      " average_pooling2d_2 (Avera  (None, 23, 23, 6)         0         \n",
      " gePooling2D)                                                    \n",
      "                                                                 \n",
      " conv2d_6 (Conv2D)           (None, 19, 19, 16)        2416      \n",
      "                                                                 \n",
      " average_pooling2d_3 (Avera  (None, 18, 18, 16)        0         \n",
      " gePooling2D)                                                    \n",
      "                                                                 \n",
      " conv2d_7 (Conv2D)           (None, 14, 14, 120)       48120     \n",
      "                                                                 \n",
      " flatten_1 (Flatten)         (None, 23520)             0         \n",
      "                                                                 \n",
      " dense_1 (Dense)             (None, 84)                1975764   \n",
      "                                                                 \n",
      " dense_2 (Dense)             (None, 10)                850       \n",
      "                                                                 \n",
      "=================================================================\n",
      "Total params: 2027306 (7.73 MB)\n",
      "Trainable params: 2027306 (7.73 MB)\n",
      "Non-trainable params: 0 (0.00 Byte)\n",
      "_________________________________________________________________\n"
     ]
    }
   ],
   "source": [
    "model.summary()"
   ]
  },
  {
   "cell_type": "code",
   "execution_count": 59,
   "id": "db170d4b",
   "metadata": {},
   "outputs": [],
   "source": [
    "model.compile(loss = keras.losses.categorical_crossentropy, optimizer = 'adam', metrics = ['accuracy'])"
   ]
  },
  {
   "cell_type": "code",
   "execution_count": 60,
   "id": "a1e42a22",
   "metadata": {},
   "outputs": [
    {
     "name": "stdout",
     "output_type": "stream",
     "text": [
      "Epoch 1/20\n",
      "1519/1519 [==============================] - 124s 81ms/step - loss: 0.2476 - accuracy: 0.9262 - val_loss: 0.1830 - val_accuracy: 0.9463\n",
      "Epoch 2/20\n",
      "1519/1519 [==============================] - 121s 80ms/step - loss: 0.1991 - accuracy: 0.9399 - val_loss: 0.1821 - val_accuracy: 0.9433\n",
      "Epoch 3/20\n",
      "1519/1519 [==============================] - 121s 80ms/step - loss: 0.1868 - accuracy: 0.9433 - val_loss: 0.1691 - val_accuracy: 0.9493\n",
      "Epoch 4/20\n",
      "1519/1519 [==============================] - 121s 80ms/step - loss: 0.1554 - accuracy: 0.9531 - val_loss: 0.1410 - val_accuracy: 0.9557\n",
      "Epoch 5/20\n",
      "1519/1519 [==============================] - 123s 81ms/step - loss: 0.1505 - accuracy: 0.9543 - val_loss: 0.1233 - val_accuracy: 0.9626\n",
      "Epoch 6/20\n",
      "1519/1519 [==============================] - 126s 83ms/step - loss: 0.1390 - accuracy: 0.9571 - val_loss: 0.1274 - val_accuracy: 0.9626\n",
      "Epoch 7/20\n",
      "1519/1519 [==============================] - 128s 84ms/step - loss: 0.1431 - accuracy: 0.9564 - val_loss: 0.1212 - val_accuracy: 0.9609\n",
      "Epoch 8/20\n",
      "1519/1519 [==============================] - 129s 85ms/step - loss: 0.1309 - accuracy: 0.9601 - val_loss: 0.1293 - val_accuracy: 0.9580\n",
      "Epoch 9/20\n",
      "1519/1519 [==============================] - 131s 87ms/step - loss: 0.1345 - accuracy: 0.9589 - val_loss: 0.1370 - val_accuracy: 0.9543\n",
      "Epoch 10/20\n",
      "1519/1519 [==============================] - 126s 83ms/step - loss: 0.1263 - accuracy: 0.9607 - val_loss: 0.1335 - val_accuracy: 0.9570\n",
      "Epoch 11/20\n",
      "1519/1519 [==============================] - 127s 84ms/step - loss: 0.1212 - accuracy: 0.9625 - val_loss: 0.1114 - val_accuracy: 0.9656\n",
      "Epoch 12/20\n",
      "1519/1519 [==============================] - 127s 83ms/step - loss: 0.1152 - accuracy: 0.9645 - val_loss: 0.1135 - val_accuracy: 0.9628\n",
      "Epoch 13/20\n",
      "1519/1519 [==============================] - 127s 83ms/step - loss: 0.1220 - accuracy: 0.9641 - val_loss: 0.1146 - val_accuracy: 0.9633\n",
      "Epoch 14/20\n",
      "1519/1519 [==============================] - 127s 83ms/step - loss: 0.1139 - accuracy: 0.9657 - val_loss: 0.1070 - val_accuracy: 0.9672\n",
      "Epoch 15/20\n",
      "1519/1519 [==============================] - 126s 83ms/step - loss: 0.1175 - accuracy: 0.9650 - val_loss: 0.1091 - val_accuracy: 0.9680\n",
      "Epoch 16/20\n",
      "1519/1519 [==============================] - 127s 83ms/step - loss: 0.1166 - accuracy: 0.9649 - val_loss: 0.1083 - val_accuracy: 0.9657\n",
      "Epoch 17/20\n",
      "1519/1519 [==============================] - 126s 83ms/step - loss: 0.1077 - accuracy: 0.9673 - val_loss: 0.1133 - val_accuracy: 0.9639\n",
      "Epoch 18/20\n",
      "1519/1519 [==============================] - 127s 83ms/step - loss: 0.1034 - accuracy: 0.9685 - val_loss: 0.1039 - val_accuracy: 0.9693\n",
      "Epoch 19/20\n",
      "1519/1519 [==============================] - 127s 83ms/step - loss: 0.1081 - accuracy: 0.9678 - val_loss: 0.1364 - val_accuracy: 0.9604\n",
      "Epoch 20/20\n",
      "1519/1519 [==============================] - 127s 83ms/step - loss: 0.1036 - accuracy: 0.9687 - val_loss: 0.1061 - val_accuracy: 0.9659\n"
     ]
    }
   ],
   "source": [
    "history = model.fit(x_train, y_train, batch_size = 32, epochs = 20, verbose = 1, validation_data = (x_val, y_val))"
   ]
  },
  {
   "cell_type": "code",
   "execution_count": 61,
   "id": "41ee9121",
   "metadata": {},
   "outputs": [
    {
     "name": "stdout",
     "output_type": "stream",
     "text": [
      "313/313 [==============================] - 7s 23ms/step - loss: 0.0977 - accuracy: 0.9709\n"
     ]
    }
   ],
   "source": [
    "score = model.evaluate(x_test, y_test, verbose = 1)"
   ]
  },
  {
   "cell_type": "code",
   "execution_count": 62,
   "id": "ee9d861b",
   "metadata": {},
   "outputs": [
    {
     "data": {
      "text/plain": [
       "[0.09769131988286972, 0.9708999991416931]"
      ]
     },
     "execution_count": 62,
     "metadata": {},
     "output_type": "execute_result"
    }
   ],
   "source": [
    "score"
   ]
  },
  {
   "cell_type": "code",
   "execution_count": null,
   "id": "76b58cb2",
   "metadata": {},
   "outputs": [],
   "source": []
  }
 ],
 "metadata": {
  "kernelspec": {
   "display_name": "Python 3 (ipykernel)",
   "language": "python",
   "name": "python3"
  },
  "language_info": {
   "codemirror_mode": {
    "name": "ipython",
    "version": 3
   },
   "file_extension": ".py",
   "mimetype": "text/x-python",
   "name": "python",
   "nbconvert_exporter": "python",
   "pygments_lexer": "ipython3",
   "version": "3.11.4"
  }
 },
 "nbformat": 4,
 "nbformat_minor": 5
}
