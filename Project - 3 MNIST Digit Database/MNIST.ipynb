{
 "cells": [
  {
   "cell_type": "markdown",
   "id": "7146391d",
   "metadata": {},
   "source": [
    "## Handwritten Digit Recognition using LeNet-5 CNN Architecture on MNIST Digit Database"
   ]
  },
  {
   "cell_type": "markdown",
   "id": "f93832ec",
   "metadata": {},
   "source": [
    "Handwritten Digit Recognition using the LeNet-5 CNN architecture on the MNIST dataset is a popular computer vision task. In this approach, we first load and preprocess the MNIST dataset, normalizing pixel values and one-hot encoding labels. Then, we define the LeNet-5 model, consisting of convolutional and fully connected layers. After compiling the model, we train it on the training data, evaluating its performance on the test set. Finally, we can make predictions using the trained model, achieving accurate recognition of handwritten digits."
   ]
  },
  {
   "cell_type": "markdown",
   "id": "7dfeaa97",
   "metadata": {},
   "source": [
    "## Importing Libraries"
   ]
  },
  {
   "cell_type": "code",
   "execution_count": 1,
   "id": "e84b5ec7",
   "metadata": {},
   "outputs": [],
   "source": [
    "import numpy as np\n",
    "import pandas as pd"
   ]
  },
  {
   "cell_type": "code",
   "execution_count": 2,
   "id": "efb8ae87",
   "metadata": {},
   "outputs": [],
   "source": [
    "from tensorflow.keras import datasets"
   ]
  },
  {
   "cell_type": "code",
   "execution_count": 3,
   "id": "7739ec9e",
   "metadata": {},
   "outputs": [
    {
     "data": {
      "text/plain": [
       "<module 'keras.api._v2.keras.datasets' from 'C:\\\\Users\\\\mukes\\\\anaconda3\\\\Lib\\\\site-packages\\\\keras\\\\api\\\\_v2\\\\keras\\\\datasets\\\\__init__.py'>"
      ]
     },
     "execution_count": 3,
     "metadata": {},
     "output_type": "execute_result"
    }
   ],
   "source": [
    "datasets"
   ]
  },
  {
   "cell_type": "markdown",
   "id": "588a9706",
   "metadata": {},
   "source": [
    "## Training and testing Data"
   ]
  },
  {
   "cell_type": "code",
   "execution_count": 4,
   "id": "02f58777",
   "metadata": {},
   "outputs": [],
   "source": [
    "(x_train, y_train), (x_test, y_test) = datasets.mnist.load_data()"
   ]
  },
  {
   "cell_type": "code",
   "execution_count": 5,
   "id": "206f0340",
   "metadata": {},
   "outputs": [
    {
     "data": {
      "text/plain": [
       "array([[[0, 0, 0, ..., 0, 0, 0],\n",
       "        [0, 0, 0, ..., 0, 0, 0],\n",
       "        [0, 0, 0, ..., 0, 0, 0],\n",
       "        ...,\n",
       "        [0, 0, 0, ..., 0, 0, 0],\n",
       "        [0, 0, 0, ..., 0, 0, 0],\n",
       "        [0, 0, 0, ..., 0, 0, 0]],\n",
       "\n",
       "       [[0, 0, 0, ..., 0, 0, 0],\n",
       "        [0, 0, 0, ..., 0, 0, 0],\n",
       "        [0, 0, 0, ..., 0, 0, 0],\n",
       "        ...,\n",
       "        [0, 0, 0, ..., 0, 0, 0],\n",
       "        [0, 0, 0, ..., 0, 0, 0],\n",
       "        [0, 0, 0, ..., 0, 0, 0]],\n",
       "\n",
       "       [[0, 0, 0, ..., 0, 0, 0],\n",
       "        [0, 0, 0, ..., 0, 0, 0],\n",
       "        [0, 0, 0, ..., 0, 0, 0],\n",
       "        ...,\n",
       "        [0, 0, 0, ..., 0, 0, 0],\n",
       "        [0, 0, 0, ..., 0, 0, 0],\n",
       "        [0, 0, 0, ..., 0, 0, 0]],\n",
       "\n",
       "       ...,\n",
       "\n",
       "       [[0, 0, 0, ..., 0, 0, 0],\n",
       "        [0, 0, 0, ..., 0, 0, 0],\n",
       "        [0, 0, 0, ..., 0, 0, 0],\n",
       "        ...,\n",
       "        [0, 0, 0, ..., 0, 0, 0],\n",
       "        [0, 0, 0, ..., 0, 0, 0],\n",
       "        [0, 0, 0, ..., 0, 0, 0]],\n",
       "\n",
       "       [[0, 0, 0, ..., 0, 0, 0],\n",
       "        [0, 0, 0, ..., 0, 0, 0],\n",
       "        [0, 0, 0, ..., 0, 0, 0],\n",
       "        ...,\n",
       "        [0, 0, 0, ..., 0, 0, 0],\n",
       "        [0, 0, 0, ..., 0, 0, 0],\n",
       "        [0, 0, 0, ..., 0, 0, 0]],\n",
       "\n",
       "       [[0, 0, 0, ..., 0, 0, 0],\n",
       "        [0, 0, 0, ..., 0, 0, 0],\n",
       "        [0, 0, 0, ..., 0, 0, 0],\n",
       "        ...,\n",
       "        [0, 0, 0, ..., 0, 0, 0],\n",
       "        [0, 0, 0, ..., 0, 0, 0],\n",
       "        [0, 0, 0, ..., 0, 0, 0]]], dtype=uint8)"
      ]
     },
     "execution_count": 5,
     "metadata": {},
     "output_type": "execute_result"
    }
   ],
   "source": [
    "x_train"
   ]
  },
  {
   "cell_type": "code",
   "execution_count": 6,
   "id": "55d930a2",
   "metadata": {},
   "outputs": [
    {
     "data": {
      "text/plain": [
       "array([5, 0, 4, ..., 5, 6, 8], dtype=uint8)"
      ]
     },
     "execution_count": 6,
     "metadata": {},
     "output_type": "execute_result"
    }
   ],
   "source": [
    "y_train"
   ]
  },
  {
   "cell_type": "code",
   "execution_count": 7,
   "id": "d3c180fc",
   "metadata": {},
   "outputs": [
    {
     "data": {
      "text/plain": [
       "(60000, 28, 28)"
      ]
     },
     "execution_count": 7,
     "metadata": {},
     "output_type": "execute_result"
    }
   ],
   "source": [
    "x_train.shape"
   ]
  },
  {
   "cell_type": "code",
   "execution_count": 8,
   "id": "c212d8d8",
   "metadata": {},
   "outputs": [
    {
     "data": {
      "text/plain": [
       "(10000, 28, 28)"
      ]
     },
     "execution_count": 8,
     "metadata": {},
     "output_type": "execute_result"
    }
   ],
   "source": [
    "x_test.shape"
   ]
  },
  {
   "cell_type": "code",
   "execution_count": 9,
   "id": "5d78d6ea",
   "metadata": {},
   "outputs": [],
   "source": [
    "width, height = 28, 28\n",
    "input_shape = (width, height, 1 )"
   ]
  },
  {
   "cell_type": "code",
   "execution_count": 10,
   "id": "e3c93ea6",
   "metadata": {},
   "outputs": [
    {
     "data": {
      "text/plain": [
       "(28, 28, 1)"
      ]
     },
     "execution_count": 10,
     "metadata": {},
     "output_type": "execute_result"
    }
   ],
   "source": [
    "input_shape"
   ]
  },
  {
   "cell_type": "code",
   "execution_count": 11,
   "id": "a3a6d5fa",
   "metadata": {},
   "outputs": [],
   "source": [
    "x_train = x_train.reshape(x_train.shape[0], height, width,1)\n",
    "x_test = x_test.reshape(x_test.shape[0], height, width, 1)"
   ]
  },
  {
   "cell_type": "code",
   "execution_count": 12,
   "id": "5f3e9838",
   "metadata": {},
   "outputs": [
    {
     "data": {
      "text/plain": [
       "(60000, 28, 28, 1)"
      ]
     },
     "execution_count": 12,
     "metadata": {},
     "output_type": "execute_result"
    }
   ],
   "source": [
    "x_train.shape"
   ]
  },
  {
   "cell_type": "code",
   "execution_count": 13,
   "id": "f6cedc4d",
   "metadata": {},
   "outputs": [
    {
     "data": {
      "text/plain": [
       "(60000,)"
      ]
     },
     "execution_count": 13,
     "metadata": {},
     "output_type": "execute_result"
    }
   ],
   "source": [
    "y_train.shape"
   ]
  },
  {
   "cell_type": "code",
   "execution_count": 14,
   "id": "040f1b82",
   "metadata": {},
   "outputs": [],
   "source": [
    "from sklearn.model_selection import train_test_split"
   ]
  },
  {
   "cell_type": "code",
   "execution_count": 15,
   "id": "9c1fde0c",
   "metadata": {},
   "outputs": [],
   "source": [
    "x_train, x_val, y_train, y_val = train_test_split(x_train, y_train,\n",
    "                                                  test_size = 0.1)"
   ]
  },
  {
   "cell_type": "code",
   "execution_count": 16,
   "id": "79d4cdba",
   "metadata": {},
   "outputs": [
    {
     "data": {
      "text/plain": [
       "54000"
      ]
     },
     "execution_count": 16,
     "metadata": {},
     "output_type": "execute_result"
    }
   ],
   "source": [
    "len(x_train)"
   ]
  },
  {
   "cell_type": "code",
   "execution_count": 17,
   "id": "5c888d17",
   "metadata": {},
   "outputs": [
    {
     "data": {
      "text/plain": [
       "6000"
      ]
     },
     "execution_count": 17,
     "metadata": {},
     "output_type": "execute_result"
    }
   ],
   "source": [
    "len(x_val)"
   ]
  },
  {
   "cell_type": "markdown",
   "id": "3880cd96",
   "metadata": {},
   "source": [
    "## Feature Scaling "
   ]
  },
  {
   "cell_type": "code",
   "execution_count": 18,
   "id": "4e732a58",
   "metadata": {},
   "outputs": [],
   "source": [
    "x_train = (x_train - x_train.mean()) / x_train.std()\n",
    "x_val = (x_val - x_val.mean()) / x_val.std()\n",
    "x_test = (x_test - x_test.mean()) / x_test.std()"
   ]
  },
  {
   "cell_type": "code",
   "execution_count": 19,
   "id": "0ff20507",
   "metadata": {},
   "outputs": [
    {
     "data": {
      "text/plain": [
       "array([[[[-0.42412306],\n",
       "         [-0.42412306],\n",
       "         [-0.42412306],\n",
       "         ...,\n",
       "         [-0.42412306],\n",
       "         [-0.42412306],\n",
       "         [-0.42412306]],\n",
       "\n",
       "        [[-0.42412306],\n",
       "         [-0.42412306],\n",
       "         [-0.42412306],\n",
       "         ...,\n",
       "         [-0.42412306],\n",
       "         [-0.42412306],\n",
       "         [-0.42412306]],\n",
       "\n",
       "        [[-0.42412306],\n",
       "         [-0.42412306],\n",
       "         [-0.42412306],\n",
       "         ...,\n",
       "         [-0.42412306],\n",
       "         [-0.42412306],\n",
       "         [-0.42412306]],\n",
       "\n",
       "        ...,\n",
       "\n",
       "        [[-0.42412306],\n",
       "         [-0.42412306],\n",
       "         [-0.42412306],\n",
       "         ...,\n",
       "         [-0.42412306],\n",
       "         [-0.42412306],\n",
       "         [-0.42412306]],\n",
       "\n",
       "        [[-0.42412306],\n",
       "         [-0.42412306],\n",
       "         [-0.42412306],\n",
       "         ...,\n",
       "         [-0.42412306],\n",
       "         [-0.42412306],\n",
       "         [-0.42412306]],\n",
       "\n",
       "        [[-0.42412306],\n",
       "         [-0.42412306],\n",
       "         [-0.42412306],\n",
       "         ...,\n",
       "         [-0.42412306],\n",
       "         [-0.42412306],\n",
       "         [-0.42412306]]],\n",
       "\n",
       "\n",
       "       [[[-0.42412306],\n",
       "         [-0.42412306],\n",
       "         [-0.42412306],\n",
       "         ...,\n",
       "         [-0.42412306],\n",
       "         [-0.42412306],\n",
       "         [-0.42412306]],\n",
       "\n",
       "        [[-0.42412306],\n",
       "         [-0.42412306],\n",
       "         [-0.42412306],\n",
       "         ...,\n",
       "         [-0.42412306],\n",
       "         [-0.42412306],\n",
       "         [-0.42412306]],\n",
       "\n",
       "        [[-0.42412306],\n",
       "         [-0.42412306],\n",
       "         [-0.42412306],\n",
       "         ...,\n",
       "         [-0.42412306],\n",
       "         [-0.42412306],\n",
       "         [-0.42412306]],\n",
       "\n",
       "        ...,\n",
       "\n",
       "        [[-0.42412306],\n",
       "         [-0.42412306],\n",
       "         [-0.42412306],\n",
       "         ...,\n",
       "         [-0.42412306],\n",
       "         [-0.42412306],\n",
       "         [-0.42412306]],\n",
       "\n",
       "        [[-0.42412306],\n",
       "         [-0.42412306],\n",
       "         [-0.42412306],\n",
       "         ...,\n",
       "         [-0.42412306],\n",
       "         [-0.42412306],\n",
       "         [-0.42412306]],\n",
       "\n",
       "        [[-0.42412306],\n",
       "         [-0.42412306],\n",
       "         [-0.42412306],\n",
       "         ...,\n",
       "         [-0.42412306],\n",
       "         [-0.42412306],\n",
       "         [-0.42412306]]],\n",
       "\n",
       "\n",
       "       [[[-0.42412306],\n",
       "         [-0.42412306],\n",
       "         [-0.42412306],\n",
       "         ...,\n",
       "         [-0.42412306],\n",
       "         [-0.42412306],\n",
       "         [-0.42412306]],\n",
       "\n",
       "        [[-0.42412306],\n",
       "         [-0.42412306],\n",
       "         [-0.42412306],\n",
       "         ...,\n",
       "         [-0.42412306],\n",
       "         [-0.42412306],\n",
       "         [-0.42412306]],\n",
       "\n",
       "        [[-0.42412306],\n",
       "         [-0.42412306],\n",
       "         [-0.42412306],\n",
       "         ...,\n",
       "         [-0.42412306],\n",
       "         [-0.42412306],\n",
       "         [-0.42412306]],\n",
       "\n",
       "        ...,\n",
       "\n",
       "        [[-0.42412306],\n",
       "         [-0.42412306],\n",
       "         [-0.42412306],\n",
       "         ...,\n",
       "         [-0.42412306],\n",
       "         [-0.42412306],\n",
       "         [-0.42412306]],\n",
       "\n",
       "        [[-0.42412306],\n",
       "         [-0.42412306],\n",
       "         [-0.42412306],\n",
       "         ...,\n",
       "         [-0.42412306],\n",
       "         [-0.42412306],\n",
       "         [-0.42412306]],\n",
       "\n",
       "        [[-0.42412306],\n",
       "         [-0.42412306],\n",
       "         [-0.42412306],\n",
       "         ...,\n",
       "         [-0.42412306],\n",
       "         [-0.42412306],\n",
       "         [-0.42412306]]],\n",
       "\n",
       "\n",
       "       ...,\n",
       "\n",
       "\n",
       "       [[[-0.42412306],\n",
       "         [-0.42412306],\n",
       "         [-0.42412306],\n",
       "         ...,\n",
       "         [-0.42412306],\n",
       "         [-0.42412306],\n",
       "         [-0.42412306]],\n",
       "\n",
       "        [[-0.42412306],\n",
       "         [-0.42412306],\n",
       "         [-0.42412306],\n",
       "         ...,\n",
       "         [-0.42412306],\n",
       "         [-0.42412306],\n",
       "         [-0.42412306]],\n",
       "\n",
       "        [[-0.42412306],\n",
       "         [-0.42412306],\n",
       "         [-0.42412306],\n",
       "         ...,\n",
       "         [-0.42412306],\n",
       "         [-0.42412306],\n",
       "         [-0.42412306]],\n",
       "\n",
       "        ...,\n",
       "\n",
       "        [[-0.42412306],\n",
       "         [-0.42412306],\n",
       "         [-0.42412306],\n",
       "         ...,\n",
       "         [-0.42412306],\n",
       "         [-0.42412306],\n",
       "         [-0.42412306]],\n",
       "\n",
       "        [[-0.42412306],\n",
       "         [-0.42412306],\n",
       "         [-0.42412306],\n",
       "         ...,\n",
       "         [-0.42412306],\n",
       "         [-0.42412306],\n",
       "         [-0.42412306]],\n",
       "\n",
       "        [[-0.42412306],\n",
       "         [-0.42412306],\n",
       "         [-0.42412306],\n",
       "         ...,\n",
       "         [-0.42412306],\n",
       "         [-0.42412306],\n",
       "         [-0.42412306]]],\n",
       "\n",
       "\n",
       "       [[[-0.42412306],\n",
       "         [-0.42412306],\n",
       "         [-0.42412306],\n",
       "         ...,\n",
       "         [-0.42412306],\n",
       "         [-0.42412306],\n",
       "         [-0.42412306]],\n",
       "\n",
       "        [[-0.42412306],\n",
       "         [-0.42412306],\n",
       "         [-0.42412306],\n",
       "         ...,\n",
       "         [-0.42412306],\n",
       "         [-0.42412306],\n",
       "         [-0.42412306]],\n",
       "\n",
       "        [[-0.42412306],\n",
       "         [-0.42412306],\n",
       "         [-0.42412306],\n",
       "         ...,\n",
       "         [-0.42412306],\n",
       "         [-0.42412306],\n",
       "         [-0.42412306]],\n",
       "\n",
       "        ...,\n",
       "\n",
       "        [[-0.42412306],\n",
       "         [-0.42412306],\n",
       "         [-0.42412306],\n",
       "         ...,\n",
       "         [-0.42412306],\n",
       "         [-0.42412306],\n",
       "         [-0.42412306]],\n",
       "\n",
       "        [[-0.42412306],\n",
       "         [-0.42412306],\n",
       "         [-0.42412306],\n",
       "         ...,\n",
       "         [-0.42412306],\n",
       "         [-0.42412306],\n",
       "         [-0.42412306]],\n",
       "\n",
       "        [[-0.42412306],\n",
       "         [-0.42412306],\n",
       "         [-0.42412306],\n",
       "         ...,\n",
       "         [-0.42412306],\n",
       "         [-0.42412306],\n",
       "         [-0.42412306]]],\n",
       "\n",
       "\n",
       "       [[[-0.42412306],\n",
       "         [-0.42412306],\n",
       "         [-0.42412306],\n",
       "         ...,\n",
       "         [-0.42412306],\n",
       "         [-0.42412306],\n",
       "         [-0.42412306]],\n",
       "\n",
       "        [[-0.42412306],\n",
       "         [-0.42412306],\n",
       "         [-0.42412306],\n",
       "         ...,\n",
       "         [-0.42412306],\n",
       "         [-0.42412306],\n",
       "         [-0.42412306]],\n",
       "\n",
       "        [[-0.42412306],\n",
       "         [-0.42412306],\n",
       "         [-0.42412306],\n",
       "         ...,\n",
       "         [-0.42412306],\n",
       "         [-0.42412306],\n",
       "         [-0.42412306]],\n",
       "\n",
       "        ...,\n",
       "\n",
       "        [[-0.42412306],\n",
       "         [-0.42412306],\n",
       "         [-0.42412306],\n",
       "         ...,\n",
       "         [-0.42412306],\n",
       "         [-0.42412306],\n",
       "         [-0.42412306]],\n",
       "\n",
       "        [[-0.42412306],\n",
       "         [-0.42412306],\n",
       "         [-0.42412306],\n",
       "         ...,\n",
       "         [-0.42412306],\n",
       "         [-0.42412306],\n",
       "         [-0.42412306]],\n",
       "\n",
       "        [[-0.42412306],\n",
       "         [-0.42412306],\n",
       "         [-0.42412306],\n",
       "         ...,\n",
       "         [-0.42412306],\n",
       "         [-0.42412306],\n",
       "         [-0.42412306]]]])"
      ]
     },
     "execution_count": 19,
     "metadata": {},
     "output_type": "execute_result"
    }
   ],
   "source": [
    "x_train"
   ]
  },
  {
   "cell_type": "code",
   "execution_count": 20,
   "id": "0cbbf42d",
   "metadata": {},
   "outputs": [],
   "source": [
    "from tensorflow import keras"
   ]
  },
  {
   "cell_type": "code",
   "execution_count": 21,
   "id": "556f29a9",
   "metadata": {},
   "outputs": [],
   "source": [
    "num_labels = 10\n",
    "\n",
    "y_train = keras.utils.to_categorical(y_train)"
   ]
  },
  {
   "cell_type": "code",
   "execution_count": 22,
   "id": "d26869e8",
   "metadata": {},
   "outputs": [
    {
     "data": {
      "text/plain": [
       "array([[0., 0., 0., ..., 0., 0., 0.],\n",
       "       [0., 1., 0., ..., 0., 0., 0.],\n",
       "       [0., 0., 0., ..., 1., 0., 0.],\n",
       "       ...,\n",
       "       [0., 0., 0., ..., 0., 0., 1.],\n",
       "       [0., 0., 0., ..., 0., 0., 0.],\n",
       "       [0., 0., 0., ..., 0., 0., 1.]], dtype=float32)"
      ]
     },
     "execution_count": 22,
     "metadata": {},
     "output_type": "execute_result"
    }
   ],
   "source": [
    "y_train"
   ]
  },
  {
   "cell_type": "code",
   "execution_count": 23,
   "id": "ea4f8677",
   "metadata": {},
   "outputs": [],
   "source": [
    "y_val = keras.utils.to_categorical(y_val)\n",
    "y_test = keras.utils.to_categorical(y_test)"
   ]
  },
  {
   "cell_type": "markdown",
   "id": "9006da8a",
   "metadata": {},
   "source": [
    "## Model"
   ]
  },
  {
   "cell_type": "code",
   "execution_count": 24,
   "id": "26b63d94",
   "metadata": {},
   "outputs": [],
   "source": [
    "from tensorflow.keras.models import Sequential\n",
    "from tensorflow.keras.layers import Dense,Dropout,Flatten,Input,Conv2D, MaxPooling2D, AveragePooling2D"
   ]
  },
  {
   "cell_type": "code",
   "execution_count": 25,
   "id": "0fd51341",
   "metadata": {},
   "outputs": [],
   "source": [
    "model = Sequential()"
   ]
  },
  {
   "cell_type": "code",
   "execution_count": 26,
   "id": "4da56264",
   "metadata": {},
   "outputs": [],
   "source": [
    "model.add(Conv2D(6, kernel_size = (5,5), strides = (1,1), activation = 'tanh', input_shape = (28,28,1)))\n",
    "model.add(AveragePooling2D(pool_size = (2,2), strides = (1,1)))\n",
    "model.add(Conv2D(16, kernel_size= (5,5), strides = (1,1), activation = 'tanh'))\n",
    "model.add(AveragePooling2D(pool_size= (2,2), strides = (1,1)))\n",
    "model.add(Conv2D(120, kernel_size= (5,5), strides = (1,1), activation = 'tanh'))\n",
    "\n",
    "model.add(Flatten())\n",
    "model.add(Dense(84, activation = 'tanh'))\n",
    "model.add(Dense(num_labels, activation = 'softmax'))"
   ]
  },
  {
   "cell_type": "code",
   "execution_count": 27,
   "id": "a82ade9b",
   "metadata": {},
   "outputs": [
    {
     "name": "stdout",
     "output_type": "stream",
     "text": [
      "Model: \"sequential\"\n",
      "_________________________________________________________________\n",
      " Layer (type)                Output Shape              Param #   \n",
      "=================================================================\n",
      " conv2d (Conv2D)             (None, 24, 24, 6)         156       \n",
      "                                                                 \n",
      " average_pooling2d (Average  (None, 23, 23, 6)         0         \n",
      " Pooling2D)                                                      \n",
      "                                                                 \n",
      " conv2d_1 (Conv2D)           (None, 19, 19, 16)        2416      \n",
      "                                                                 \n",
      " average_pooling2d_1 (Avera  (None, 18, 18, 16)        0         \n",
      " gePooling2D)                                                    \n",
      "                                                                 \n",
      " conv2d_2 (Conv2D)           (None, 14, 14, 120)       48120     \n",
      "                                                                 \n",
      " flatten (Flatten)           (None, 23520)             0         \n",
      "                                                                 \n",
      " dense (Dense)               (None, 84)                1975764   \n",
      "                                                                 \n",
      " dense_1 (Dense)             (None, 10)                850       \n",
      "                                                                 \n",
      "=================================================================\n",
      "Total params: 2027306 (7.73 MB)\n",
      "Trainable params: 2027306 (7.73 MB)\n",
      "Non-trainable params: 0 (0.00 Byte)\n",
      "_________________________________________________________________\n"
     ]
    }
   ],
   "source": [
    "model.summary()"
   ]
  },
  {
   "cell_type": "code",
   "execution_count": 28,
   "id": "db170d4b",
   "metadata": {},
   "outputs": [],
   "source": [
    "model.compile(loss = keras.losses.categorical_crossentropy, optimizer = 'adam', metrics = ['accuracy'])"
   ]
  },
  {
   "cell_type": "code",
   "execution_count": 29,
   "id": "a1e42a22",
   "metadata": {},
   "outputs": [
    {
     "name": "stdout",
     "output_type": "stream",
     "text": [
      "Epoch 1/20\n",
      "1688/1688 [==============================] - 145s 85ms/step - loss: 0.2539 - accuracy: 0.9239 - val_loss: 0.2113 - val_accuracy: 0.9382\n",
      "Epoch 2/20\n",
      "1688/1688 [==============================] - 141s 84ms/step - loss: 0.1984 - accuracy: 0.9403 - val_loss: 0.1650 - val_accuracy: 0.9477\n",
      "Epoch 3/20\n",
      "1688/1688 [==============================] - 142s 84ms/step - loss: 0.1709 - accuracy: 0.9484 - val_loss: 0.1532 - val_accuracy: 0.9553\n",
      "Epoch 4/20\n",
      "1688/1688 [==============================] - 141s 84ms/step - loss: 0.1633 - accuracy: 0.9499 - val_loss: 0.1623 - val_accuracy: 0.9510\n",
      "Epoch 5/20\n",
      "1688/1688 [==============================] - 141s 84ms/step - loss: 0.1573 - accuracy: 0.9520 - val_loss: 0.1613 - val_accuracy: 0.9495\n",
      "Epoch 6/20\n",
      "1688/1688 [==============================] - 144s 85ms/step - loss: 0.1460 - accuracy: 0.9545 - val_loss: 0.1310 - val_accuracy: 0.9577\n",
      "Epoch 7/20\n",
      "1688/1688 [==============================] - 142s 84ms/step - loss: 0.1283 - accuracy: 0.9604 - val_loss: 0.1458 - val_accuracy: 0.9515\n",
      "Epoch 8/20\n",
      "1688/1688 [==============================] - 142s 84ms/step - loss: 0.1299 - accuracy: 0.9604 - val_loss: 0.1299 - val_accuracy: 0.9578\n",
      "Epoch 9/20\n",
      "1688/1688 [==============================] - 141s 84ms/step - loss: 0.1347 - accuracy: 0.9584 - val_loss: 0.1336 - val_accuracy: 0.9607\n",
      "Epoch 10/20\n",
      "1688/1688 [==============================] - 141s 84ms/step - loss: 0.1381 - accuracy: 0.9585 - val_loss: 0.1336 - val_accuracy: 0.9585\n",
      "Epoch 11/20\n",
      "1688/1688 [==============================] - 139s 82ms/step - loss: 0.1251 - accuracy: 0.9627 - val_loss: 0.1106 - val_accuracy: 0.9668\n",
      "Epoch 12/20\n",
      "1688/1688 [==============================] - 139s 82ms/step - loss: 0.1172 - accuracy: 0.9648 - val_loss: 0.1160 - val_accuracy: 0.9647\n",
      "Epoch 13/20\n",
      "1688/1688 [==============================] - 140s 83ms/step - loss: 0.1228 - accuracy: 0.9621 - val_loss: 0.1222 - val_accuracy: 0.9625\n",
      "Epoch 14/20\n",
      "1688/1688 [==============================] - 139s 82ms/step - loss: 0.1138 - accuracy: 0.9653 - val_loss: 0.1059 - val_accuracy: 0.9675\n",
      "Epoch 15/20\n",
      "1688/1688 [==============================] - 132s 78ms/step - loss: 0.1162 - accuracy: 0.9651 - val_loss: 0.1169 - val_accuracy: 0.9642\n",
      "Epoch 16/20\n",
      "1688/1688 [==============================] - 105s 62ms/step - loss: 0.1252 - accuracy: 0.9618 - val_loss: 0.1796 - val_accuracy: 0.9480\n",
      "Epoch 17/20\n",
      "1688/1688 [==============================] - 100s 59ms/step - loss: 0.1164 - accuracy: 0.9648 - val_loss: 0.1105 - val_accuracy: 0.9673\n",
      "Epoch 18/20\n",
      "1688/1688 [==============================] - 102s 60ms/step - loss: 0.1040 - accuracy: 0.9693 - val_loss: 0.1217 - val_accuracy: 0.9642\n",
      "Epoch 19/20\n",
      "1688/1688 [==============================] - 102s 60ms/step - loss: 0.1070 - accuracy: 0.9668 - val_loss: 0.1061 - val_accuracy: 0.9693\n",
      "Epoch 20/20\n",
      "1688/1688 [==============================] - 102s 61ms/step - loss: 0.1095 - accuracy: 0.9666 - val_loss: 0.1160 - val_accuracy: 0.9652\n"
     ]
    }
   ],
   "source": [
    "history = model.fit(x_train, y_train, batch_size = 32, epochs = 20, verbose = 1, validation_data = (x_val, y_val))"
   ]
  },
  {
   "cell_type": "code",
   "execution_count": 32,
   "id": "41ee9121",
   "metadata": {},
   "outputs": [
    {
     "name": "stdout",
     "output_type": "stream",
     "text": [
      "313/313 [==============================] - 4s 14ms/step - loss: 0.1086 - accuracy: 0.9679\n"
     ]
    }
   ],
   "source": [
    "score = model.evaluate(x_test, y_test, verbose = 1)"
   ]
  },
  {
   "cell_type": "code",
   "execution_count": 33,
   "id": "ee9d861b",
   "metadata": {},
   "outputs": [
    {
     "data": {
      "text/plain": [
       "[0.10861322283744812, 0.9678999781608582]"
      ]
     },
     "execution_count": 33,
     "metadata": {},
     "output_type": "execute_result"
    }
   ],
   "source": [
    "score"
   ]
  },
  {
   "cell_type": "code",
   "execution_count": null,
   "id": "76b58cb2",
   "metadata": {},
   "outputs": [],
   "source": []
  }
 ],
 "metadata": {
  "kernelspec": {
   "display_name": "Python 3 (ipykernel)",
   "language": "python",
   "name": "python3"
  },
  "language_info": {
   "codemirror_mode": {
    "name": "ipython",
    "version": 3
   },
   "file_extension": ".py",
   "mimetype": "text/x-python",
   "name": "python",
   "nbconvert_exporter": "python",
   "pygments_lexer": "ipython3",
   "version": "3.11.4"
  }
 },
 "nbformat": 4,
 "nbformat_minor": 5
}
