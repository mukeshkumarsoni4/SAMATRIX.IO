{
 "cells": [
  {
   "cell_type": "markdown",
   "id": "7be8d65f",
   "metadata": {},
   "source": [
    "## Project - Linear Classification - Predict Survival from a Ship mishap"
   ]
  },
  {
   "cell_type": "markdown",
   "id": "60f27918",
   "metadata": {},
   "source": [
    "So far we have developed a fair understanding of feature columns, data pipelines, and TensorFlow estimators\n",
    "\n",
    "Now let’s focus on building a Classification model using a real dataset, the Titanic data set.\n",
    "\n",
    "There are 627 sample cases in the training dataset and 264 cases in test dataset\n",
    "\n",
    "10 attributes have been assigned to each passenger\n",
    "\n",
    "We will use a Tensor Flow estimator to build a linear regression model"
   ]
  },
  {
   "cell_type": "code",
   "execution_count": 2,
   "id": "9d3e3f17",
   "metadata": {},
   "outputs": [],
   "source": [
    "import tensorflow as tf"
   ]
  },
  {
   "cell_type": "code",
   "execution_count": 3,
   "id": "bbe3a312",
   "metadata": {},
   "outputs": [],
   "source": [
    "import pandas as pd"
   ]
  },
  {
   "cell_type": "code",
   "execution_count": 4,
   "id": "52c07b13",
   "metadata": {},
   "outputs": [],
   "source": [
    "import matplotlib.pyplot as plt"
   ]
  },
  {
   "cell_type": "code",
   "execution_count": 5,
   "id": "2776d513",
   "metadata": {},
   "outputs": [],
   "source": [
    "train_x = pd.read_csv('train.csv')"
   ]
  },
  {
   "cell_type": "code",
   "execution_count": 6,
   "id": "67cdf953",
   "metadata": {},
   "outputs": [],
   "source": [
    "eval_x = pd.read_csv('eval.csv')"
   ]
  },
  {
   "cell_type": "code",
   "execution_count": 7,
   "id": "879ad8fd",
   "metadata": {},
   "outputs": [],
   "source": [
    "train_y = train_x.pop('survived')"
   ]
  },
  {
   "cell_type": "code",
   "execution_count": 8,
   "id": "e19f7133",
   "metadata": {},
   "outputs": [],
   "source": [
    "eval_y = eval_x.pop('survived')"
   ]
  },
  {
   "cell_type": "markdown",
   "id": "678a51d3",
   "metadata": {},
   "source": [
    "## Explore Data"
   ]
  },
  {
   "cell_type": "markdown",
   "id": "352d92a4",
   "metadata": {},
   "source": [
    "## List the features in the dataset"
   ]
  },
  {
   "cell_type": "code",
   "execution_count": 10,
   "id": "74ea67c6",
   "metadata": {},
   "outputs": [
    {
     "data": {
      "text/html": [
       "<div>\n",
       "<style scoped>\n",
       "    .dataframe tbody tr th:only-of-type {\n",
       "        vertical-align: middle;\n",
       "    }\n",
       "\n",
       "    .dataframe tbody tr th {\n",
       "        vertical-align: top;\n",
       "    }\n",
       "\n",
       "    .dataframe thead th {\n",
       "        text-align: right;\n",
       "    }\n",
       "</style>\n",
       "<table border=\"1\" class=\"dataframe\">\n",
       "  <thead>\n",
       "    <tr style=\"text-align: right;\">\n",
       "      <th></th>\n",
       "      <th>0</th>\n",
       "      <th>1</th>\n",
       "      <th>2</th>\n",
       "      <th>3</th>\n",
       "      <th>4</th>\n",
       "    </tr>\n",
       "  </thead>\n",
       "  <tbody>\n",
       "    <tr>\n",
       "      <th>sex</th>\n",
       "      <td>male</td>\n",
       "      <td>female</td>\n",
       "      <td>female</td>\n",
       "      <td>female</td>\n",
       "      <td>male</td>\n",
       "    </tr>\n",
       "    <tr>\n",
       "      <th>age</th>\n",
       "      <td>22.0</td>\n",
       "      <td>38.0</td>\n",
       "      <td>26.0</td>\n",
       "      <td>35.0</td>\n",
       "      <td>28.0</td>\n",
       "    </tr>\n",
       "    <tr>\n",
       "      <th>n_siblings_spouses</th>\n",
       "      <td>1</td>\n",
       "      <td>1</td>\n",
       "      <td>0</td>\n",
       "      <td>1</td>\n",
       "      <td>0</td>\n",
       "    </tr>\n",
       "    <tr>\n",
       "      <th>parch</th>\n",
       "      <td>0</td>\n",
       "      <td>0</td>\n",
       "      <td>0</td>\n",
       "      <td>0</td>\n",
       "      <td>0</td>\n",
       "    </tr>\n",
       "    <tr>\n",
       "      <th>fare</th>\n",
       "      <td>7.25</td>\n",
       "      <td>71.2833</td>\n",
       "      <td>7.925</td>\n",
       "      <td>53.1</td>\n",
       "      <td>8.4583</td>\n",
       "    </tr>\n",
       "    <tr>\n",
       "      <th>class</th>\n",
       "      <td>Third</td>\n",
       "      <td>First</td>\n",
       "      <td>Third</td>\n",
       "      <td>First</td>\n",
       "      <td>Third</td>\n",
       "    </tr>\n",
       "    <tr>\n",
       "      <th>deck</th>\n",
       "      <td>unknown</td>\n",
       "      <td>C</td>\n",
       "      <td>unknown</td>\n",
       "      <td>C</td>\n",
       "      <td>unknown</td>\n",
       "    </tr>\n",
       "    <tr>\n",
       "      <th>embark_town</th>\n",
       "      <td>Southampton</td>\n",
       "      <td>Cherbourg</td>\n",
       "      <td>Southampton</td>\n",
       "      <td>Southampton</td>\n",
       "      <td>Queenstown</td>\n",
       "    </tr>\n",
       "    <tr>\n",
       "      <th>alone</th>\n",
       "      <td>n</td>\n",
       "      <td>n</td>\n",
       "      <td>y</td>\n",
       "      <td>n</td>\n",
       "      <td>y</td>\n",
       "    </tr>\n",
       "  </tbody>\n",
       "</table>\n",
       "</div>"
      ],
      "text/plain": [
       "                              0          1            2            3  \\\n",
       "sex                        male     female       female       female   \n",
       "age                        22.0       38.0         26.0         35.0   \n",
       "n_siblings_spouses            1          1            0            1   \n",
       "parch                         0          0            0            0   \n",
       "fare                       7.25    71.2833        7.925         53.1   \n",
       "class                     Third      First        Third        First   \n",
       "deck                    unknown          C      unknown            C   \n",
       "embark_town         Southampton  Cherbourg  Southampton  Southampton   \n",
       "alone                         n          n            y            n   \n",
       "\n",
       "                             4  \n",
       "sex                       male  \n",
       "age                       28.0  \n",
       "n_siblings_spouses           0  \n",
       "parch                        0  \n",
       "fare                    8.4583  \n",
       "class                    Third  \n",
       "deck                   unknown  \n",
       "embark_town         Queenstown  \n",
       "alone                        y  "
      ]
     },
     "execution_count": 10,
     "metadata": {},
     "output_type": "execute_result"
    }
   ],
   "source": [
    "train_x.head().T"
   ]
  },
  {
   "cell_type": "markdown",
   "id": "be18fead",
   "metadata": {},
   "source": [
    "## Statistical Analysis of the data"
   ]
  },
  {
   "cell_type": "code",
   "execution_count": 11,
   "id": "3de7cb9d",
   "metadata": {},
   "outputs": [
    {
     "data": {
      "text/html": [
       "<div>\n",
       "<style scoped>\n",
       "    .dataframe tbody tr th:only-of-type {\n",
       "        vertical-align: middle;\n",
       "    }\n",
       "\n",
       "    .dataframe tbody tr th {\n",
       "        vertical-align: top;\n",
       "    }\n",
       "\n",
       "    .dataframe thead th {\n",
       "        text-align: right;\n",
       "    }\n",
       "</style>\n",
       "<table border=\"1\" class=\"dataframe\">\n",
       "  <thead>\n",
       "    <tr style=\"text-align: right;\">\n",
       "      <th></th>\n",
       "      <th>age</th>\n",
       "      <th>n_siblings_spouses</th>\n",
       "      <th>parch</th>\n",
       "      <th>fare</th>\n",
       "    </tr>\n",
       "  </thead>\n",
       "  <tbody>\n",
       "    <tr>\n",
       "      <th>count</th>\n",
       "      <td>627.000000</td>\n",
       "      <td>627.000000</td>\n",
       "      <td>627.000000</td>\n",
       "      <td>627.000000</td>\n",
       "    </tr>\n",
       "    <tr>\n",
       "      <th>mean</th>\n",
       "      <td>29.631308</td>\n",
       "      <td>0.545455</td>\n",
       "      <td>0.379585</td>\n",
       "      <td>34.385399</td>\n",
       "    </tr>\n",
       "    <tr>\n",
       "      <th>std</th>\n",
       "      <td>12.511818</td>\n",
       "      <td>1.151090</td>\n",
       "      <td>0.792999</td>\n",
       "      <td>54.597730</td>\n",
       "    </tr>\n",
       "    <tr>\n",
       "      <th>min</th>\n",
       "      <td>0.750000</td>\n",
       "      <td>0.000000</td>\n",
       "      <td>0.000000</td>\n",
       "      <td>0.000000</td>\n",
       "    </tr>\n",
       "    <tr>\n",
       "      <th>25%</th>\n",
       "      <td>23.000000</td>\n",
       "      <td>0.000000</td>\n",
       "      <td>0.000000</td>\n",
       "      <td>7.895800</td>\n",
       "    </tr>\n",
       "    <tr>\n",
       "      <th>50%</th>\n",
       "      <td>28.000000</td>\n",
       "      <td>0.000000</td>\n",
       "      <td>0.000000</td>\n",
       "      <td>15.045800</td>\n",
       "    </tr>\n",
       "    <tr>\n",
       "      <th>75%</th>\n",
       "      <td>35.000000</td>\n",
       "      <td>1.000000</td>\n",
       "      <td>0.000000</td>\n",
       "      <td>31.387500</td>\n",
       "    </tr>\n",
       "    <tr>\n",
       "      <th>max</th>\n",
       "      <td>80.000000</td>\n",
       "      <td>8.000000</td>\n",
       "      <td>5.000000</td>\n",
       "      <td>512.329200</td>\n",
       "    </tr>\n",
       "  </tbody>\n",
       "</table>\n",
       "</div>"
      ],
      "text/plain": [
       "              age  n_siblings_spouses       parch        fare\n",
       "count  627.000000          627.000000  627.000000  627.000000\n",
       "mean    29.631308            0.545455    0.379585   34.385399\n",
       "std     12.511818            1.151090    0.792999   54.597730\n",
       "min      0.750000            0.000000    0.000000    0.000000\n",
       "25%     23.000000            0.000000    0.000000    7.895800\n",
       "50%     28.000000            0.000000    0.000000   15.045800\n",
       "75%     35.000000            1.000000    0.000000   31.387500\n",
       "max     80.000000            8.000000    5.000000  512.329200"
      ]
     },
     "execution_count": 11,
     "metadata": {},
     "output_type": "execute_result"
    }
   ],
   "source": [
    "train_x.describe()"
   ]
  },
  {
   "cell_type": "markdown",
   "id": "356dff4d",
   "metadata": {},
   "source": [
    "## Number of records in each dataset"
   ]
  },
  {
   "cell_type": "code",
   "execution_count": 12,
   "id": "0a41748f",
   "metadata": {},
   "outputs": [
    {
     "data": {
      "text/plain": [
       "(627, 264)"
      ]
     },
     "execution_count": 12,
     "metadata": {},
     "output_type": "execute_result"
    }
   ],
   "source": [
    "train_x.shape[0], eval_x.shape[0]"
   ]
  },
  {
   "cell_type": "markdown",
   "id": "f3b36368",
   "metadata": {},
   "source": [
    "## Age distribution of the passengers"
   ]
  },
  {
   "cell_type": "code",
   "execution_count": 14,
   "id": "37893079",
   "metadata": {},
   "outputs": [
    {
     "data": {
      "image/png": "[encoded data removed]",
      "text/plain": [
       "<Figure size 640x480 with 1 Axes>"
      ]
     },
     "metadata": {},
     "output_type": "display_data"
    }
   ],
   "source": [
    "train_x.age.hist(bins=20)\n",
    "plt.show()"
   ]
  },
  {
   "cell_type": "markdown",
   "id": "97e7f566",
   "metadata": {},
   "source": [
    "## Gender distribution of the passengers"
   ]
  },
  {
   "cell_type": "code",
   "execution_count": 17,
   "id": "5fa26a9c",
   "metadata": {},
   "outputs": [
    {
     "data": {
      "image/png": "[encoded data removed]",
      "text/plain": [
       "<Figure size 640x480 with 1 Axes>"
      ]
     },
     "metadata": {},
     "output_type": "display_data"
    }
   ],
   "source": [
    "train_x.sex.value_counts().plot(kind='barh')\n",
    "plt.show()"
   ]
  },
  {
   "cell_type": "markdown",
   "id": "661a05d0",
   "metadata": {},
   "source": [
    "Males are more than double than females"
   ]
  },
  {
   "cell_type": "markdown",
   "id": "ed7b3ca3",
   "metadata": {},
   "source": [
    "## Distribution by class"
   ]
  },
  {
   "cell_type": "code",
   "execution_count": 19,
   "id": "b7cf337a",
   "metadata": {},
   "outputs": [
    {
     "data": {
      "image/png": "[encoded data removed]",
      "text/plain": [
       "<Figure size 640x480 with 1 Axes>"
      ]
     },
     "metadata": {},
     "output_type": "display_data"
    }
   ],
   "source": [
    "train_x['class'].value_counts().plot(kind='barh')\n",
    "plt.show()"
   ]
  },
  {
   "cell_type": "markdown",
   "id": "d153b6af",
   "metadata": {},
   "source": [
    "## Analyze the survival chances by sex"
   ]
  },
  {
   "cell_type": "code",
   "execution_count": 21,
   "id": "37e8c2a4",
   "metadata": {},
   "outputs": [
    {
     "data": {
      "image/png": "[encoded data removed]",
      "text/plain": [
       "<Figure size 640x480 with 1 Axes>"
      ]
     },
     "metadata": {},
     "output_type": "display_data"
    }
   ],
   "source": [
    "pd.concat([train_x, train_y], axis=1).groupby('sex').survived.mean().plot(kind='barh').set_xlabel('%survive')\n",
    "plt.show()"
   ]
  },
  {
   "cell_type": "markdown",
   "id": "687e8e6c",
   "metadata": {},
   "source": [
    "## Feature Column and Input Function"
   ]
  },
  {
   "cell_type": "markdown",
   "id": "6610e663",
   "metadata": {},
   "source": [
    "### Feature Column"
   ]
  },
  {
   "cell_type": "code",
   "execution_count": 23,
   "id": "c9cb5eee",
   "metadata": {},
   "outputs": [],
   "source": [
    "CAT_COLUMNS = ['sex', 'n_siblings_spouses', 'parch', 'class', 'deck', 'embark_town', 'alone']"
   ]
  },
  {
   "cell_type": "code",
   "execution_count": 27,
   "id": "d80355f8",
   "metadata": {},
   "outputs": [],
   "source": [
    "NUM_COLUMNS = ['age', 'fare']"
   ]
  },
  {
   "cell_type": "code",
   "execution_count": 28,
   "id": "3016ea38",
   "metadata": {},
   "outputs": [],
   "source": [
    "feature_columns = []"
   ]
  },
  {
   "cell_type": "code",
   "execution_count": 31,
   "id": "942aa748",
   "metadata": {},
   "outputs": [
    {
     "name": "stdout",
     "output_type": "stream",
     "text": [
      "WARNING:tensorflow:From C:\\Users\\mukes\\AppData\\Local\\Temp\\ipykernel_14276\\1158609833.py:3: categorical_column_with_vocabulary_list (from tensorflow.python.feature_column.feature_column_v2) is deprecated and will be removed in a future version.\n",
      "Instructions for updating:\n",
      "Use Keras preprocessing layers instead, either directly or via the `tf.keras.utils.FeatureSpace` utility. Each of `tf.feature_column.*` has a functional equivalent in `tf.keras.layers` for feature preprocessing when training a Keras model.\n"
     ]
    }
   ],
   "source": [
    "for feature in CAT_COLUMNS:\n",
    "    vocabulary = train_x[feature].unique()\n",
    "    feature_columns.append(tf.feature_column.categorical_column_with_vocabulary_list(feature, vocabulary))"
   ]
  },
  {
   "cell_type": "code",
   "execution_count": 32,
   "id": "5efa188a",
   "metadata": {},
   "outputs": [
    {
     "name": "stdout",
     "output_type": "stream",
     "text": [
      "WARNING:tensorflow:From C:\\Users\\mukes\\AppData\\Local\\Temp\\ipykernel_14276\\250791886.py:2: numeric_column (from tensorflow.python.feature_column.feature_column_v2) is deprecated and will be removed in a future version.\n",
      "Instructions for updating:\n",
      "Use Keras preprocessing layers instead, either directly or via the `tf.keras.utils.FeatureSpace` utility. Each of `tf.feature_column.*` has a functional equivalent in `tf.keras.layers` for feature preprocessing when training a Keras model.\n"
     ]
    }
   ],
   "source": [
    "for feature in NUM_COLUMNS:\n",
    "    feature_columns.append(tf.feature_column.numeric_column(feature, dtype=tf.float32))"
   ]
  },
  {
   "cell_type": "markdown",
   "id": "e4d569a3",
   "metadata": {},
   "source": [
    "## Input Function"
   ]
  },
  {
   "cell_type": "code",
   "execution_count": 34,
   "id": "798327ea",
   "metadata": {},
   "outputs": [],
   "source": [
    "def input_func(input_data, label_data, num_epochs=10,\n",
    "               shuffle=True, batch_size=32):\n",
    "    def input_function():\n",
    "        ds = tf.data.Dataset.from_tensor_slices((dict(input_data), label_data))\n",
    "        if shuffle:\n",
    "            ds = ds.shuffle(1000)\n",
    "        ds = ds.batch(batch_size).repeat(num_epochs)\n",
    "        return ds\n",
    "    return input_function"
   ]
  },
  {
   "cell_type": "code",
   "execution_count": 35,
   "id": "91e0802a",
   "metadata": {},
   "outputs": [],
   "source": [
    "train_input_fn = input_func(train_x, train_y)"
   ]
  },
  {
   "cell_type": "code",
   "execution_count": 36,
   "id": "84a928d1",
   "metadata": {},
   "outputs": [],
   "source": [
    "eval_input_fn = input_func(eval_x, eval_y, num_epochs=1, shuffle=False)"
   ]
  },
  {
   "cell_type": "markdown",
   "id": "c7dbb447",
   "metadata": {},
   "source": [
    "The input_function converts the data to a tf.data.Dataset\n",
    "\n",
    "It feeds the input pipeline"
   ]
  },
  {
   "cell_type": "markdown",
   "id": "a1db5767",
   "metadata": {},
   "source": [
    "# Inspect Dataset"
   ]
  },
  {
   "cell_type": "code",
   "execution_count": 37,
   "id": "98ac8c98",
   "metadata": {},
   "outputs": [],
   "source": [
    "ds = input_func(train_x, train_y, batch_size=10)()"
   ]
  },
  {
   "cell_type": "code",
   "execution_count": 38,
   "id": "9fb27147",
   "metadata": {},
   "outputs": [
    {
     "name": "stdout",
     "output_type": "stream",
     "text": [
      "Feature keys : ['sex', 'age', 'n_siblings_spouses', 'parch', 'fare', 'class', 'deck', 'embark_town', 'alone']\n",
      "\n",
      "Class Batch : [b'Third' b'Third' b'Third' b'Third' b'First' b'Third' b'Third' b'Third'\n",
      " b'Second' b'Second']\n",
      "\n",
      "Labels Batch: [1 0 0 1 0 0 1 0 1 0]\n"
     ]
    }
   ],
   "source": [
    "for feature_batch, label_batch in ds.take(1):\n",
    "    print('Feature keys :', list(feature_batch.keys()))\n",
    "    print()\n",
    "    print('Class Batch :', feature_batch['class'].numpy())\n",
    "    print()\n",
    "    print('Labels Batch:', label_batch.numpy())"
   ]
  },
  {
   "cell_type": "markdown",
   "id": "27fa7dfe",
   "metadata": {},
   "source": [
    "# Inspect Specific Feature Column"
   ]
  },
  {
   "cell_type": "code",
   "execution_count": 39,
   "id": "b690fb87",
   "metadata": {},
   "outputs": [],
   "source": [
    "age_column = feature_columns[7]"
   ]
  },
  {
   "cell_type": "code",
   "execution_count": 40,
   "id": "9f1d47df",
   "metadata": {},
   "outputs": [
    {
     "data": {
      "text/plain": [
       "array([[27.],\n",
       "       [ 9.],\n",
       "       [48.],\n",
       "       [28.],\n",
       "       [70.],\n",
       "       [24.],\n",
       "       [28.],\n",
       "       [17.],\n",
       "       [45.],\n",
       "       [59.]], dtype=float32)"
      ]
     },
     "execution_count": 40,
     "metadata": {},
     "output_type": "execute_result"
    }
   ],
   "source": [
    "tf.keras.layers.DenseFeatures([age_column])(feature_batch).numpy()"
   ]
  },
  {
   "cell_type": "markdown",
   "id": "cf12fc92",
   "metadata": {},
   "source": [
    "# Inspect Categorical Feature Column"
   ]
  },
  {
   "cell_type": "code",
   "execution_count": 41,
   "id": "ff696810",
   "metadata": {},
   "outputs": [],
   "source": [
    "gender_column = feature_columns[0]"
   ]
  },
  {
   "cell_type": "code",
   "execution_count": 42,
   "id": "7bca3e07",
   "metadata": {},
   "outputs": [
    {
     "name": "stdout",
     "output_type": "stream",
     "text": [
      "WARNING:tensorflow:From C:\\Users\\mukes\\AppData\\Local\\Temp\\ipykernel_14276\\2967802379.py:1: indicator_column (from tensorflow.python.feature_column.feature_column_v2) is deprecated and will be removed in a future version.\n",
      "Instructions for updating:\n",
      "Use Keras preprocessing layers instead, either directly or via the `tf.keras.utils.FeatureSpace` utility. Each of `tf.feature_column.*` has a functional equivalent in `tf.keras.layers` for feature preprocessing when training a Keras model.\n"
     ]
    },
    {
     "data": {
      "text/plain": [
       "<bound method _EagerTensorBase.numpy of <tf.Tensor: shape=(10, 2), dtype=float32, numpy=\n",
       "array([[1., 0.],\n",
       "       [1., 0.],\n",
       "       [1., 0.],\n",
       "       [0., 1.],\n",
       "       [1., 0.],\n",
       "       [1., 0.],\n",
       "       [0., 1.],\n",
       "       [1., 0.],\n",
       "       [0., 1.],\n",
       "       [1., 0.]], dtype=float32)>>"
      ]
     },
     "execution_count": 42,
     "metadata": {},
     "output_type": "execute_result"
    }
   ],
   "source": [
    "tf.keras.layers.DenseFeatures([tf.feature_column.indicator_column(gender_column)])(feature_batch).numpy"
   ]
  },
  {
   "cell_type": "markdown",
   "id": "d05a6bdc",
   "metadata": {},
   "source": [
    "# Estimator Model and Validation"
   ]
  },
  {
   "cell_type": "code",
   "execution_count": 44,
   "id": "440ffb08",
   "metadata": {},
   "outputs": [
    {
     "name": "stdout",
     "output_type": "stream",
     "text": [
      "INFO:tensorflow:Using default config.\n",
      "WARNING:tensorflow:Using temporary folder as model directory: C:\\Users\\mukes\\AppData\\Local\\Temp\\tmpwo6d_6jo\n",
      "INFO:tensorflow:Using config: {'_model_dir': 'C:\\\\Users\\\\mukes\\\\AppData\\\\Local\\\\Temp\\\\tmpwo6d_6jo', '_tf_random_seed': None, '_save_summary_steps': 100, '_save_checkpoints_steps': None, '_save_checkpoints_secs': 600, '_session_config': allow_soft_placement: true\n",
      "graph_options {\n",
      "  rewrite_options {\n",
      "    meta_optimizer_iterations: ONE\n",
      "  }\n",
      "}\n",
      ", '_keep_checkpoint_max': 5, '_keep_checkpoint_every_n_hours': 10000, '_log_step_count_steps': 100, '_train_distribute': None, '_device_fn': None, '_protocol': None, '_eval_distribute': None, '_experimental_distribute': None, '_experimental_max_worker_delay_secs': None, '_session_creation_timeout_secs': 7200, '_checkpoint_save_graph_def': True, '_service': None, '_cluster_spec': ClusterSpec({}), '_task_type': 'worker', '_task_id': 0, '_global_id_in_cluster': 0, '_master': '', '_evaluation_master': '', '_is_chief': True, '_num_ps_replicas': 0, '_num_worker_replicas': 1}\n"
     ]
    }
   ],
   "source": [
    "model = tf.estimator.LinearClassifier(feature_columns=feature_columns)"
   ]
  },
  {
   "cell_type": "code",
   "execution_count": 45,
   "id": "829e4417",
   "metadata": {},
   "outputs": [
    {
     "name": "stdout",
     "output_type": "stream",
     "text": [
      "INFO:tensorflow:Calling model_fn.\n",
      "WARNING:tensorflow:From C:\\Users\\mukes\\anaconda3\\Lib\\site-packages\\keras\\src\\optimizers\\legacy\\ftrl.py:173: calling Constant.__init__ (from tensorflow.python.ops.init_ops) with dtype is deprecated and will be removed in a future version.\n",
      "Instructions for updating:\n",
      "Call initializer instance with the dtype argument instead of passing it to the constructor\n",
      "WARNING:tensorflow:From C:\\Users\\mukes\\anaconda3\\Lib\\site-packages\\tensorflow_estimator\\python\\estimator\\model_fn.py:250: EstimatorSpec.__new__ (from tensorflow_estimator.python.estimator.model_fn) is deprecated and will be removed in a future version.\n",
      "Instructions for updating:\n",
      "Use tf.keras instead.\n",
      "INFO:tensorflow:Done calling model_fn.\n",
      "WARNING:tensorflow:From C:\\Users\\mukes\\anaconda3\\Lib\\site-packages\\tensorflow_estimator\\python\\estimator\\estimator.py:1416: NanTensorHook.__init__ (from tensorflow.python.training.basic_session_run_hooks) is deprecated and will be removed in a future version.\n",
      "Instructions for updating:\n",
      "Use tf.keras instead.\n",
      "WARNING:tensorflow:From C:\\Users\\mukes\\anaconda3\\Lib\\site-packages\\tensorflow_estimator\\python\\estimator\\estimator.py:1419: LoggingTensorHook.__init__ (from tensorflow.python.training.basic_session_run_hooks) is deprecated and will be removed in a future version.\n",
      "Instructions for updating:\n",
      "Use tf.keras instead.\n",
      "WARNING:tensorflow:From C:\\Users\\mukes\\anaconda3\\Lib\\site-packages\\tensorflow\\python\\training\\basic_session_run_hooks.py:232: SecondOrStepTimer.__init__ (from tensorflow.python.training.basic_session_run_hooks) is deprecated and will be removed in a future version.\n",
      "Instructions for updating:\n",
      "Use tf.keras instead.\n",
      "WARNING:tensorflow:From C:\\Users\\mukes\\anaconda3\\Lib\\site-packages\\tensorflow_estimator\\python\\estimator\\estimator.py:1456: CheckpointSaverHook.__init__ (from tensorflow.python.training.basic_session_run_hooks) is deprecated and will be removed in a future version.\n",
      "Instructions for updating:\n",
      "Use tf.keras instead.\n",
      "INFO:tensorflow:Create CheckpointSaverHook.\n",
      "WARNING:tensorflow:From C:\\Users\\mukes\\anaconda3\\Lib\\site-packages\\tensorflow\\python\\training\\monitored_session.py:579: StepCounterHook.__init__ (from tensorflow.python.training.basic_session_run_hooks) is deprecated and will be removed in a future version.\n",
      "Instructions for updating:\n",
      "Use tf.keras instead.\n",
      "WARNING:tensorflow:From C:\\Users\\mukes\\anaconda3\\Lib\\site-packages\\tensorflow\\python\\training\\monitored_session.py:586: SummarySaverHook.__init__ (from tensorflow.python.training.basic_session_run_hooks) is deprecated and will be removed in a future version.\n",
      "Instructions for updating:\n",
      "Use tf.keras instead.\n",
      "INFO:tensorflow:Graph was finalized.\n",
      "INFO:tensorflow:Running local_init_op.\n",
      "INFO:tensorflow:Done running local_init_op.\n",
      "INFO:tensorflow:Calling checkpoint listeners before saving checkpoint 0...\n",
      "INFO:tensorflow:Saving checkpoints for 0 into C:\\Users\\mukes\\AppData\\Local\\Temp\\tmpwo6d_6jo\\model.ckpt.\n",
      "INFO:tensorflow:Calling checkpoint listeners after saving checkpoint 0...\n",
      "WARNING:tensorflow:From C:\\Users\\mukes\\anaconda3\\Lib\\site-packages\\tensorflow\\python\\training\\monitored_session.py:1455: SessionRunArgs.__new__ (from tensorflow.python.training.session_run_hook) is deprecated and will be removed in a future version.\n",
      "Instructions for updating:\n",
      "Use tf.keras instead.\n",
      "WARNING:tensorflow:From C:\\Users\\mukes\\anaconda3\\Lib\\site-packages\\tensorflow\\python\\training\\monitored_session.py:1454: SessionRunContext.__init__ (from tensorflow.python.training.session_run_hook) is deprecated and will be removed in a future version.\n",
      "Instructions for updating:\n",
      "Use tf.keras instead.\n",
      "WARNING:tensorflow:From C:\\Users\\mukes\\anaconda3\\Lib\\site-packages\\tensorflow\\python\\training\\monitored_session.py:1474: SessionRunValues.__new__ (from tensorflow.python.training.session_run_hook) is deprecated and will be removed in a future version.\n",
      "Instructions for updating:\n",
      "Use tf.keras instead.\n",
      "INFO:tensorflow:loss = 0.6931472, step = 0\n",
      "INFO:tensorflow:global_step/sec: 213.046\n",
      "INFO:tensorflow:loss = 0.536891, step = 100 (0.470 sec)\n",
      "INFO:tensorflow:Calling checkpoint listeners before saving checkpoint 200...\n",
      "INFO:tensorflow:Saving checkpoints for 200 into C:\\Users\\mukes\\AppData\\Local\\Temp\\tmpwo6d_6jo\\model.ckpt.\n",
      "INFO:tensorflow:Calling checkpoint listeners after saving checkpoint 200...\n",
      "INFO:tensorflow:Loss for final step: 0.28349203.\n"
     ]
    },
    {
     "data": {
      "text/plain": [
       "<tensorflow_estimator.python.estimator.canned.linear.LinearClassifierV2 at 0x14912289d90>"
      ]
     },
     "execution_count": 45,
     "metadata": {},
     "output_type": "execute_result"
    }
   ],
   "source": [
    "model.train(train_input_fn)"
   ]
  },
  {
   "cell_type": "code",
   "execution_count": 46,
   "id": "ab1d77b7",
   "metadata": {},
   "outputs": [
    {
     "name": "stdout",
     "output_type": "stream",
     "text": [
      "INFO:tensorflow:Calling model_fn.\n",
      "INFO:tensorflow:Done calling model_fn.\n",
      "INFO:tensorflow:Starting evaluation at 2023-09-17T09:43:24\n",
      "WARNING:tensorflow:From C:\\Users\\mukes\\anaconda3\\Lib\\site-packages\\tensorflow\\python\\training\\evaluation.py:260: FinalOpsHook.__init__ (from tensorflow.python.training.basic_session_run_hooks) is deprecated and will be removed in a future version.\n",
      "Instructions for updating:\n",
      "Use tf.keras instead.\n",
      "INFO:tensorflow:Graph was finalized.\n",
      "INFO:tensorflow:Restoring parameters from C:\\Users\\mukes\\AppData\\Local\\Temp\\tmpwo6d_6jo\\model.ckpt-200\n",
      "INFO:tensorflow:Running local_init_op.\n",
      "INFO:tensorflow:Done running local_init_op.\n",
      "INFO:tensorflow:Inference Time : 1.03257s\n",
      "INFO:tensorflow:Finished evaluation at 2023-09-17-09:43:25\n",
      "INFO:tensorflow:Saving dict for global step 200: accuracy = 0.7386364, accuracy_baseline = 0.625, auc = 0.83180285, auc_precision_recall = 0.79828036, average_loss = 0.480906, global_step = 200, label/mean = 0.375, loss = 0.47387764, precision = 0.65, prediction/mean = 0.40829763, recall = 0.65656567\n",
      "INFO:tensorflow:Saving 'checkpoint_path' summary for global step 200: C:\\Users\\mukes\\AppData\\Local\\Temp\\tmpwo6d_6jo\\model.ckpt-200\n"
     ]
    }
   ],
   "source": [
    "result = model.evaluate(eval_input_fn)"
   ]
  },
  {
   "cell_type": "code",
   "execution_count": 47,
   "id": "9290c747",
   "metadata": {},
   "outputs": [
    {
     "name": "stdout",
     "output_type": "stream",
     "text": [
      "{'accuracy': 0.7386364, 'accuracy_baseline': 0.625, 'auc': 0.83180285, 'auc_precision_recall': 0.79828036, 'average_loss': 0.480906, 'label/mean': 0.375, 'loss': 0.47387764, 'precision': 0.65, 'prediction/mean': 0.40829763, 'recall': 0.65656567, 'global_step': 200}\n"
     ]
    }
   ],
   "source": [
    "print(result)"
   ]
  },
  {
   "cell_type": "markdown",
   "id": "3e1aa892",
   "metadata": {},
   "source": [
    "# Predictions"
   ]
  },
  {
   "cell_type": "code",
   "execution_count": 48,
   "id": "9bd96438",
   "metadata": {},
   "outputs": [
    {
     "name": "stdout",
     "output_type": "stream",
     "text": [
      "INFO:tensorflow:Calling model_fn.\n",
      "WARNING:tensorflow:From C:\\Users\\mukes\\anaconda3\\Lib\\site-packages\\tensorflow_estimator\\python\\estimator\\head\\base_head.py:786: ClassificationOutput.__init__ (from tensorflow.python.saved_model.model_utils.export_output) is deprecated and will be removed in a future version.\n",
      "Instructions for updating:\n",
      "Use tf.keras instead.\n",
      "WARNING:tensorflow:From C:\\Users\\mukes\\anaconda3\\Lib\\site-packages\\tensorflow_estimator\\python\\estimator\\head\\binary_class_head.py:561: RegressionOutput.__init__ (from tensorflow.python.saved_model.model_utils.export_output) is deprecated and will be removed in a future version.\n",
      "Instructions for updating:\n",
      "Use tf.keras instead.\n",
      "WARNING:tensorflow:From C:\\Users\\mukes\\anaconda3\\Lib\\site-packages\\tensorflow_estimator\\python\\estimator\\head\\binary_class_head.py:563: PredictOutput.__init__ (from tensorflow.python.saved_model.model_utils.export_output) is deprecated and will be removed in a future version.\n",
      "Instructions for updating:\n",
      "Use tf.keras instead.\n",
      "INFO:tensorflow:Done calling model_fn.\n",
      "INFO:tensorflow:Graph was finalized.\n",
      "INFO:tensorflow:Restoring parameters from C:\\Users\\mukes\\AppData\\Local\\Temp\\tmpwo6d_6jo\\model.ckpt-200\n",
      "INFO:tensorflow:Running local_init_op.\n",
      "INFO:tensorflow:Done running local_init_op.\n"
     ]
    }
   ],
   "source": [
    "prediction = list(model.predict(eval_input_fn))"
   ]
  },
  {
   "cell_type": "code",
   "execution_count": 49,
   "id": "0b7ac2d6",
   "metadata": {},
   "outputs": [],
   "source": [
    "probabs = pd.Series([pred['probabilities'][1] for pred in prediction])"
   ]
  },
  {
   "cell_type": "code",
   "execution_count": 50,
   "id": "72dda2c8",
   "metadata": {},
   "outputs": [
    {
     "data": {
      "image/png": "[encoded data removed]",
      "text/plain": [
       "<Figure size 640x480 with 1 Axes>"
      ]
     },
     "metadata": {},
     "output_type": "display_data"
    }
   ],
   "source": [
    "probabs.plot(kind='hist', bins=20, title='predicted probabilities') \n",
    "plt.show()"
   ]
  },
  {
   "cell_type": "markdown",
   "id": "c0ccf80b",
   "metadata": {},
   "source": [
    "# ROC Curve"
   ]
  },
  {
   "cell_type": "code",
   "execution_count": 51,
   "id": "13880581",
   "metadata": {},
   "outputs": [],
   "source": [
    "from sklearn.metrics import roc_curve"
   ]
  },
  {
   "cell_type": "code",
   "execution_count": 52,
   "id": "1759c96e",
   "metadata": {},
   "outputs": [],
   "source": [
    "false_pr, true_pr, _ = roc_curve(eval_y, probabs)"
   ]
  },
  {
   "cell_type": "code",
   "execution_count": 54,
   "id": "6ae52df3",
   "metadata": {},
   "outputs": [
    {
     "data": {
      "text/plain": [
       "[]"
      ]
     },
     "execution_count": 54,
     "metadata": {},
     "output_type": "execute_result"
    },
    {
     "data": {
      "image/png": "[encoded data removed]",
      "text/plain": [
       "<Figure size 640x480 with 1 Axes>"
      ]
     },
     "metadata": {},
     "output_type": "display_data"
    }
   ],
   "source": [
    "plt.plot(false_pr, true_pr)\n",
    "plt.title('Roc curve')\n",
    "plt.xlabel('false positive rate')\n",
    "plt.ylabel('true positive rate')\n",
    "plt.xlim(0,)\n",
    "plt.ylim(0,)\n",
    "plt.plot()"
   ]
  },
  {
   "cell_type": "code",
   "execution_count": null,
   "id": "be8ad902",
   "metadata": {},
   "outputs": [],
   "source": []
  },
  {
   "cell_type": "code",
   "execution_count": null,
   "id": "68133778",
   "metadata": {},
   "outputs": [],
   "source": []
  }
 ],
 "metadata": {
  "kernelspec": {
   "display_name": "Python 3 (ipykernel)",
   "language": "python",
   "name": "python3"
  },
  "language_info": {
   "codemirror_mode": {
    "name": "ipython",
    "version": 3
   },
   "file_extension": ".py",
   "mimetype": "text/x-python",
   "name": "python",
   "nbconvert_exporter": "python",
   "pygments_lexer": "ipython3",
   "version": "3.11.4"
  }
 },
 "nbformat": 4,
 "nbformat_minor": 5
}
